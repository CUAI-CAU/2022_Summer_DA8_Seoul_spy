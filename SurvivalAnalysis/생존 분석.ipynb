{
 "cells": [
  {
   "cell_type": "code",
   "execution_count": 2,
   "metadata": {},
   "outputs": [],
   "source": [
    "import pandas as pd\n",
    "import numpy as np\n",
    "import matplotlib.pyplot as plt\n",
    "from lifelines import KaplanMeierFitter"
   ]
  },
  {
   "cell_type": "code",
   "execution_count": 402,
   "metadata": {
    "scrolled": false
   },
   "outputs": [],
   "source": [
    "import pandas as pd\n",
    "data= pd.read_excel('C:/Users/jimin.DESKTOP-8V20QSQ/Desktop/압구정동최종.xlsx')\n",
    "data2 = pd.read_excel('C:/Users/jimin.DESKTOP-8V20QSQ/Desktop/한남동최종.xlsx')\n",
    "data3 = pd.read_excel('C:/Users/jimin.DESKTOP-8V20QSQ/Desktop/성수1가최종.xlsx')\n",
    "data4 = pd.read_excel('C:/Users/jimin.DESKTOP-8V20QSQ/Desktop/성수2가최종.xlsx')\n",
    "data5 =pd.read_excel('C:/Users/jimin.DESKTOP-8V20QSQ/Desktop/연남동최종.xlsx')\n",
    "data6 =pd.read_excel('C:/Users/jimin.DESKTOP-8V20QSQ/Desktop/여의동최종.xlsx')\n",
    "data7 = pd.read_excel('C:/Users/jimin.DESKTOP-8V20QSQ/Desktop/종로최종.xlsx')"
   ]
  },
  {
   "cell_type": "code",
   "execution_count": 398,
   "metadata": {},
   "outputs": [
    {
     "data": {
      "text/plain": [
       "0    2019-04-04\n",
       "0    2016-02-16\n",
       "0      20190603\n",
       "0      20190501\n",
       "Name: 인허가일자, dtype: object"
      ]
     },
     "execution_count": 398,
     "metadata": {},
     "output_type": "execute_result"
    }
   ],
   "source": [
    "df['인허가일자'][0][:4]"
   ]
  },
  {
   "cell_type": "code",
   "execution_count": 403,
   "metadata": {},
   "outputs": [],
   "source": [
    "df = pd.concat([data,data2, data3, data4, data5, data6 ,data7],axis=0)"
   ]
  },
  {
   "cell_type": "code",
   "execution_count": 407,
   "metadata": {},
   "outputs": [],
   "source": [
    "df = df[df['house_성장률']!=0]"
   ]
  },
  {
   "cell_type": "code",
   "execution_count": 399,
   "metadata": {},
   "outputs": [],
   "source": [
    "df.reset_index(inplace=True)"
   ]
  },
  {
   "cell_type": "code",
   "execution_count": 309,
   "metadata": {
    "scrolled": true
   },
   "outputs": [
    {
     "data": {
      "text/plain": [
       "Unnamed: 0.2                   1235\n",
       "Unnamed: 0                        0\n",
       "Unnamed: 0.1                      0\n",
       "Unnamed: 0.1.1                    0\n",
       "인허가일자                             0\n",
       "영업상태명                             0\n",
       "폐업일자                              0\n",
       "영업일                               0\n",
       "동                                 0\n",
       "도로명전체주소                         474\n",
       "업태구분명                             0\n",
       "distance to intersection(m)       0\n",
       "land use type                  6068\n",
       "가장 가까운 버스정류장까지 거리                 0\n",
       "가장 가까운 공원까지 거리                    0\n",
       "distance to station(m)            0\n",
       "레스토랑 규모 성장률                       0\n",
       "house_성장률                         0\n",
       "retail_성장률                        0\n",
       "Unnamed: 0.1.1.1               3858\n",
       "소재지전체주소                        1319\n",
       "사업장명                           1319\n",
       "좌표정보(X)                        1319\n",
       "좌표정보(Y)                        1319\n",
       "경도                             1319\n",
       "위도                             1319\n",
       "번호                             4848\n",
       "dtype: int64"
      ]
     },
     "execution_count": 309,
     "metadata": {},
     "output_type": "execute_result"
    }
   ],
   "source": [
    "df.isnull().sum()\n",
    "#len(df)"
   ]
  },
  {
   "cell_type": "code",
   "execution_count": 401,
   "metadata": {},
   "outputs": [
    {
     "ename": "ValueError",
     "evalue": "invalid literal for int() with base 10: 'NaT'",
     "output_type": "error",
     "traceback": [
      "\u001b[1;31m---------------------------------------------------------------------------\u001b[0m",
      "\u001b[1;31mValueError\u001b[0m                                Traceback (most recent call last)",
      "Input \u001b[1;32mIn [401]\u001b[0m, in \u001b[0;36m<cell line: 2>\u001b[1;34m()\u001b[0m\n\u001b[0;32m      3\u001b[0m \u001b[38;5;28;01mif\u001b[39;00m df[\u001b[38;5;124m'\u001b[39m\u001b[38;5;124m폐업일자\u001b[39m\u001b[38;5;124m'\u001b[39m][i] \u001b[38;5;241m==\u001b[39m \u001b[38;5;124m'\u001b[39m\u001b[38;5;124mNaT\u001b[39m\u001b[38;5;124m'\u001b[39m :\n\u001b[0;32m      4\u001b[0m     df[\u001b[38;5;124m'\u001b[39m\u001b[38;5;124m폐업일자\u001b[39m\u001b[38;5;124m'\u001b[39m][i] \u001b[38;5;241m==\u001b[39m \u001b[38;5;124m'\u001b[39m\u001b[38;5;124m2019\u001b[39m\u001b[38;5;124m'\u001b[39m\n\u001b[1;32m----> 5\u001b[0m \u001b[38;5;28;01mif\u001b[39;00m \u001b[38;5;28mint\u001b[39m(df[\u001b[38;5;124m'\u001b[39m\u001b[38;5;124m인허가일자\u001b[39m\u001b[38;5;124m'\u001b[39m][i][:\u001b[38;5;241m4\u001b[39m]) \u001b[38;5;241m!=\u001b[39m \u001b[38;5;28;43mint\u001b[39;49m\u001b[43m(\u001b[49m\u001b[43mdf\u001b[49m\u001b[43m[\u001b[49m\u001b[38;5;124;43m'\u001b[39;49m\u001b[38;5;124;43m폐업일자\u001b[39;49m\u001b[38;5;124;43m'\u001b[39;49m\u001b[43m]\u001b[49m\u001b[43m[\u001b[49m\u001b[43mi\u001b[49m\u001b[43m]\u001b[49m\u001b[43m[\u001b[49m\u001b[43m:\u001b[49m\u001b[38;5;241;43m4\u001b[39;49m\u001b[43m]\u001b[49m\u001b[43m)\u001b[49m :\n\u001b[0;32m      6\u001b[0m     c\u001b[38;5;241m.\u001b[39mappend(df\u001b[38;5;241m.\u001b[39mloc[i, :])\n",
      "\u001b[1;31mValueError\u001b[0m: invalid literal for int() with base 10: 'NaT'"
     ]
    }
   ],
   "source": [
    "c = []\n",
    "for i in range(len(df)) :\n",
    "    if df['폐업일자'][i] == 'NaT' :\n",
    "        df['폐업일자'][i] == '2019'\n",
    "    if int(df['인허가일자'][i][:4]) != int(df['폐업일자'][i][:4]) :\n",
    "        c.append(df.loc[i, :])"
   ]
  },
  {
   "cell_type": "code",
   "execution_count": 408,
   "metadata": {
    "scrolled": true
   },
   "outputs": [
    {
     "data": {
      "text/plain": [
       "여의동           2230\n",
       "성수동2가         1132\n",
       "한남동           1018\n",
       "연남동            833\n",
       "성수동1가          700\n",
       "종로1,2,3,4가     342\n",
       "압구정동           149\n",
       "Name: 동, dtype: int64"
      ]
     },
     "execution_count": 408,
     "metadata": {},
     "output_type": "execute_result"
    }
   ],
   "source": [
    "df['동'].value_counts()"
   ]
  },
  {
   "cell_type": "code",
   "execution_count": 364,
   "metadata": {},
   "outputs": [],
   "source": [
    "df.loc[df.영업상태명=='폐업', 'business status'] = 0\n",
    "df.loc[df.영업상태명=='영업/정상', 'business status'] = 1"
   ]
  },
  {
   "cell_type": "code",
   "execution_count": 365,
   "metadata": {},
   "outputs": [],
   "source": [
    "df.loc[df.동=='한남동', '행정동']=0\n",
    "df.loc[df.동=='압구정동', '행정동']=1\n",
    "df.loc[df.동=='성수동1가', '행정동']=2\n",
    "df.loc[df.동=='성수동2가', '행정동']=3\n",
    "df.loc[df.동=='종로1,2,3,4가', '행정동']=4\n",
    "df.loc[df.동=='여의동', '행정동']=5\n",
    "df.loc[df.동=='연남동', '행정동']=6"
   ]
  },
  {
   "cell_type": "code",
   "execution_count": 366,
   "metadata": {},
   "outputs": [],
   "source": [
    "df2 = df[['인허가일자', '영업일','distance to intersection(m)',\n",
    "             '가장 가까운 버스정류장까지 거리','가장 가까운 공원까지 거리',\n",
    "             'distance to station(m)','레스토랑 규모 성장률','retail_성장률','house_성장률','행정동','business status']]"
   ]
  },
  {
   "cell_type": "code",
   "execution_count": 367,
   "metadata": {},
   "outputs": [],
   "source": [
    "kmf_a = KaplanMeierFitter()\n",
    "kmf_b = KaplanMeierFitter()\n",
    "kmf_c = KaplanMeierFitter()\n",
    "kmf_d = KaplanMeierFitter()\n",
    "kmf_e = KaplanMeierFitter()\n",
    "kmf_f = KaplanMeierFitter()\n",
    "kmf_g = KaplanMeierFitter()"
   ]
  },
  {
   "cell_type": "code",
   "execution_count": 368,
   "metadata": {},
   "outputs": [],
   "source": [
    "한남 = df.query('행정동==0')\n",
    "압구정 = df.query('행정동==1')\n",
    "성수1가 = df.query('행정동==2')\n",
    "성수2가 = df.query('행정동==3')\n",
    "종로 = df.query('행정동==4')\n",
    "여의도 = df.query('행정동==5')\n",
    "연남 = df.query('행정동==6')"
   ]
  },
  {
   "cell_type": "code",
   "execution_count": 322,
   "metadata": {},
   "outputs": [
    {
     "data": {
      "text/html": [
       "<div>\n",
       "<style scoped>\n",
       "    .dataframe tbody tr th:only-of-type {\n",
       "        vertical-align: middle;\n",
       "    }\n",
       "\n",
       "    .dataframe tbody tr th {\n",
       "        vertical-align: top;\n",
       "    }\n",
       "\n",
       "    .dataframe thead th {\n",
       "        text-align: right;\n",
       "    }\n",
       "</style>\n",
       "<table border=\"1\" class=\"dataframe\">\n",
       "  <thead>\n",
       "    <tr style=\"text-align: right;\">\n",
       "      <th></th>\n",
       "      <th>Unnamed: 0.2</th>\n",
       "      <th>Unnamed: 0</th>\n",
       "      <th>Unnamed: 0.1</th>\n",
       "      <th>Unnamed: 0.1.1</th>\n",
       "      <th>인허가일자</th>\n",
       "      <th>영업상태명</th>\n",
       "      <th>폐업일자</th>\n",
       "      <th>영업일</th>\n",
       "      <th>동</th>\n",
       "      <th>도로명전체주소</th>\n",
       "      <th>...</th>\n",
       "      <th>Unnamed: 0.1.1.1</th>\n",
       "      <th>소재지전체주소</th>\n",
       "      <th>사업장명</th>\n",
       "      <th>좌표정보(X)</th>\n",
       "      <th>좌표정보(Y)</th>\n",
       "      <th>경도</th>\n",
       "      <th>위도</th>\n",
       "      <th>번호</th>\n",
       "      <th>business status</th>\n",
       "      <th>행정동</th>\n",
       "    </tr>\n",
       "  </thead>\n",
       "  <tbody>\n",
       "    <tr>\n",
       "      <th>0</th>\n",
       "      <td>NaN</td>\n",
       "      <td>0</td>\n",
       "      <td>0</td>\n",
       "      <td>0</td>\n",
       "      <td>20110428</td>\n",
       "      <td>폐업</td>\n",
       "      <td>2022-06-08</td>\n",
       "      <td>3169</td>\n",
       "      <td>종로1,2,3,4가</td>\n",
       "      <td>서울특별시 종로구 종로 19 (종로1가,르메이르종로타운 (지하2층 B205호))</td>\n",
       "      <td>...</td>\n",
       "      <td>108.0</td>\n",
       "      <td>서울특별시 종로구 종로1가 24 르메이르종로타운 (지하2층 B205호)</td>\n",
       "      <td>소통</td>\n",
       "      <td>198150.300374</td>\n",
       "      <td>452019.212643</td>\n",
       "      <td>126.976960</td>\n",
       "      <td>37.570459</td>\n",
       "      <td>NaN</td>\n",
       "      <td>0.0</td>\n",
       "      <td>4.0</td>\n",
       "    </tr>\n",
       "    <tr>\n",
       "      <th>1</th>\n",
       "      <td>NaN</td>\n",
       "      <td>1</td>\n",
       "      <td>1</td>\n",
       "      <td>1</td>\n",
       "      <td>20110721</td>\n",
       "      <td>폐업</td>\n",
       "      <td>2019-06-04</td>\n",
       "      <td>2875</td>\n",
       "      <td>종로1,2,3,4가</td>\n",
       "      <td>서울특별시 종로구 종로 116-2 (종로3가,(지상1층))</td>\n",
       "      <td>...</td>\n",
       "      <td>121.0</td>\n",
       "      <td>서울특별시 종로구 종로3가 116-1번지 (지상1층)</td>\n",
       "      <td>키다리아찌</td>\n",
       "      <td>199094.585494</td>\n",
       "      <td>451972.782867</td>\n",
       "      <td>126.987649</td>\n",
       "      <td>37.570042</td>\n",
       "      <td>NaN</td>\n",
       "      <td>0.0</td>\n",
       "      <td>4.0</td>\n",
       "    </tr>\n",
       "    <tr>\n",
       "      <th>2</th>\n",
       "      <td>NaN</td>\n",
       "      <td>2</td>\n",
       "      <td>2</td>\n",
       "      <td>2</td>\n",
       "      <td>20110719</td>\n",
       "      <td>폐업</td>\n",
       "      <td>2014-03-10</td>\n",
       "      <td>965</td>\n",
       "      <td>종로1,2,3,4가</td>\n",
       "      <td>서울특별시 종로구 종로 19, 지하2층 224호 (종로1가, 르메이에르 종로타운)</td>\n",
       "      <td>...</td>\n",
       "      <td>125.0</td>\n",
       "      <td>서울특별시 종로구 종로1가 24번지</td>\n",
       "      <td>플루토</td>\n",
       "      <td>198150.300374</td>\n",
       "      <td>452019.212643</td>\n",
       "      <td>126.976960</td>\n",
       "      <td>37.570459</td>\n",
       "      <td>NaN</td>\n",
       "      <td>0.0</td>\n",
       "      <td>4.0</td>\n",
       "    </tr>\n",
       "    <tr>\n",
       "      <th>3</th>\n",
       "      <td>NaN</td>\n",
       "      <td>3</td>\n",
       "      <td>3</td>\n",
       "      <td>3</td>\n",
       "      <td>20110520</td>\n",
       "      <td>폐업</td>\n",
       "      <td>2013-02-28</td>\n",
       "      <td>650</td>\n",
       "      <td>종로1,2,3,4가</td>\n",
       "      <td>서울특별시 종로구 종로 146-1 (종로3가,(지상1층))</td>\n",
       "      <td>...</td>\n",
       "      <td>146.0</td>\n",
       "      <td>서울특별시 종로구 종로3가 156-1번지 (지상1층)</td>\n",
       "      <td>김밥친구</td>\n",
       "      <td>199383.197682</td>\n",
       "      <td>451993.773380</td>\n",
       "      <td>126.990916</td>\n",
       "      <td>37.570231</td>\n",
       "      <td>NaN</td>\n",
       "      <td>0.0</td>\n",
       "      <td>4.0</td>\n",
       "    </tr>\n",
       "    <tr>\n",
       "      <th>4</th>\n",
       "      <td>NaN</td>\n",
       "      <td>4</td>\n",
       "      <td>4</td>\n",
       "      <td>4</td>\n",
       "      <td>19970416</td>\n",
       "      <td>폐업</td>\n",
       "      <td>2015-01-21</td>\n",
       "      <td>1481</td>\n",
       "      <td>종로1,2,3,4가</td>\n",
       "      <td>서울특별시 종로구 종로 111-1 (종로3가)</td>\n",
       "      <td>...</td>\n",
       "      <td>329.0</td>\n",
       "      <td>서울특별시 종로구 종로3가 6-0번지</td>\n",
       "      <td>태라스</td>\n",
       "      <td>199041.009248</td>\n",
       "      <td>452032.239571</td>\n",
       "      <td>126.987043</td>\n",
       "      <td>37.570578</td>\n",
       "      <td>NaN</td>\n",
       "      <td>0.0</td>\n",
       "      <td>4.0</td>\n",
       "    </tr>\n",
       "    <tr>\n",
       "      <th>...</th>\n",
       "      <td>...</td>\n",
       "      <td>...</td>\n",
       "      <td>...</td>\n",
       "      <td>...</td>\n",
       "      <td>...</td>\n",
       "      <td>...</td>\n",
       "      <td>...</td>\n",
       "      <td>...</td>\n",
       "      <td>...</td>\n",
       "      <td>...</td>\n",
       "      <td>...</td>\n",
       "      <td>...</td>\n",
       "      <td>...</td>\n",
       "      <td>...</td>\n",
       "      <td>...</td>\n",
       "      <td>...</td>\n",
       "      <td>...</td>\n",
       "      <td>...</td>\n",
       "      <td>...</td>\n",
       "      <td>...</td>\n",
       "      <td>...</td>\n",
       "    </tr>\n",
       "    <tr>\n",
       "      <th>386</th>\n",
       "      <td>NaN</td>\n",
       "      <td>386</td>\n",
       "      <td>386</td>\n",
       "      <td>386</td>\n",
       "      <td>20190212</td>\n",
       "      <td>영업/정상</td>\n",
       "      <td>NaT</td>\n",
       "      <td>322</td>\n",
       "      <td>종로1,2,3,4가</td>\n",
       "      <td>서울특별시 종로구 종로 51, 종로타워 지하2층 B201호 (종로2가)</td>\n",
       "      <td>...</td>\n",
       "      <td>18742.0</td>\n",
       "      <td>서울특별시 종로구 종로2가 6번지 종로타워</td>\n",
       "      <td>알리바바 쏙쏙김밥 종로타워점</td>\n",
       "      <td>198504.772724</td>\n",
       "      <td>452018.161512</td>\n",
       "      <td>126.980973</td>\n",
       "      <td>37.570450</td>\n",
       "      <td>NaN</td>\n",
       "      <td>1.0</td>\n",
       "      <td>4.0</td>\n",
       "    </tr>\n",
       "    <tr>\n",
       "      <th>387</th>\n",
       "      <td>NaN</td>\n",
       "      <td>387</td>\n",
       "      <td>387</td>\n",
       "      <td>387</td>\n",
       "      <td>20190328</td>\n",
       "      <td>영업/정상</td>\n",
       "      <td>NaT</td>\n",
       "      <td>278</td>\n",
       "      <td>종로1,2,3,4가</td>\n",
       "      <td>서울특별시 종로구 종로 61, 3층 (종로2가)</td>\n",
       "      <td>...</td>\n",
       "      <td>18749.0</td>\n",
       "      <td>서울특별시 종로구 종로2가 7번지</td>\n",
       "      <td>경희궁</td>\n",
       "      <td>198542.918840</td>\n",
       "      <td>452016.496548</td>\n",
       "      <td>126.981404</td>\n",
       "      <td>37.570435</td>\n",
       "      <td>NaN</td>\n",
       "      <td>1.0</td>\n",
       "      <td>4.0</td>\n",
       "    </tr>\n",
       "    <tr>\n",
       "      <th>388</th>\n",
       "      <td>NaN</td>\n",
       "      <td>388</td>\n",
       "      <td>388</td>\n",
       "      <td>388</td>\n",
       "      <td>20190222</td>\n",
       "      <td>영업/정상</td>\n",
       "      <td>NaT</td>\n",
       "      <td>312</td>\n",
       "      <td>종로1,2,3,4가</td>\n",
       "      <td>서울특별시 종로구 종로 19, 르메이에르종로타운1 지하2층 B216-1호 (종로1가)</td>\n",
       "      <td>...</td>\n",
       "      <td>18753.0</td>\n",
       "      <td>서울특별시 종로구 종로1가 24 르메이에르종로타운1 지하2층 B216-1호</td>\n",
       "      <td>오부장 보쌈족발</td>\n",
       "      <td>198150.300374</td>\n",
       "      <td>452019.212643</td>\n",
       "      <td>126.976960</td>\n",
       "      <td>37.570459</td>\n",
       "      <td>NaN</td>\n",
       "      <td>1.0</td>\n",
       "      <td>4.0</td>\n",
       "    </tr>\n",
       "    <tr>\n",
       "      <th>389</th>\n",
       "      <td>NaN</td>\n",
       "      <td>389</td>\n",
       "      <td>389</td>\n",
       "      <td>389</td>\n",
       "      <td>19860226</td>\n",
       "      <td>영업/정상</td>\n",
       "      <td>NaT</td>\n",
       "      <td>3286</td>\n",
       "      <td>종로1,2,3,4가</td>\n",
       "      <td>서울특별시 종로구 돈화문로4길 41 (종로3가)</td>\n",
       "      <td>...</td>\n",
       "      <td>18771.0</td>\n",
       "      <td>서울특별시 종로구 종로3가 170번지</td>\n",
       "      <td>왕벌집</td>\n",
       "      <td>199455.321850</td>\n",
       "      <td>451983.721699</td>\n",
       "      <td>126.991732</td>\n",
       "      <td>37.570141</td>\n",
       "      <td>NaN</td>\n",
       "      <td>1.0</td>\n",
       "      <td>4.0</td>\n",
       "    </tr>\n",
       "    <tr>\n",
       "      <th>390</th>\n",
       "      <td>NaN</td>\n",
       "      <td>390</td>\n",
       "      <td>390</td>\n",
       "      <td>390</td>\n",
       "      <td>19910313</td>\n",
       "      <td>영업/정상</td>\n",
       "      <td>NaT</td>\n",
       "      <td>3286</td>\n",
       "      <td>종로1,2,3,4가</td>\n",
       "      <td>서울특별시 종로구 수표로20길 43 (종로3가)</td>\n",
       "      <td>...</td>\n",
       "      <td>18807.0</td>\n",
       "      <td>서울특별시 종로구 종로3가 132-1</td>\n",
       "      <td>가르텐 비어</td>\n",
       "      <td>199217.330754</td>\n",
       "      <td>451974.244324</td>\n",
       "      <td>126.989038</td>\n",
       "      <td>37.570055</td>\n",
       "      <td>NaN</td>\n",
       "      <td>1.0</td>\n",
       "      <td>4.0</td>\n",
       "    </tr>\n",
       "  </tbody>\n",
       "</table>\n",
       "<p>391 rows × 29 columns</p>\n",
       "</div>"
      ],
      "text/plain": [
       "     Unnamed: 0.2  Unnamed: 0  Unnamed: 0.1  Unnamed: 0.1.1     인허가일자  영업상태명  \\\n",
       "0             NaN           0             0               0  20110428     폐업   \n",
       "1             NaN           1             1               1  20110721     폐업   \n",
       "2             NaN           2             2               2  20110719     폐업   \n",
       "3             NaN           3             3               3  20110520     폐업   \n",
       "4             NaN           4             4               4  19970416     폐업   \n",
       "..            ...         ...           ...             ...       ...    ...   \n",
       "386           NaN         386           386             386  20190212  영업/정상   \n",
       "387           NaN         387           387             387  20190328  영업/정상   \n",
       "388           NaN         388           388             388  20190222  영업/정상   \n",
       "389           NaN         389           389             389  19860226  영업/정상   \n",
       "390           NaN         390           390             390  19910313  영업/정상   \n",
       "\n",
       "           폐업일자   영업일           동  \\\n",
       "0    2022-06-08  3169  종로1,2,3,4가   \n",
       "1    2019-06-04  2875  종로1,2,3,4가   \n",
       "2    2014-03-10   965  종로1,2,3,4가   \n",
       "3    2013-02-28   650  종로1,2,3,4가   \n",
       "4    2015-01-21  1481  종로1,2,3,4가   \n",
       "..          ...   ...         ...   \n",
       "386         NaT   322  종로1,2,3,4가   \n",
       "387         NaT   278  종로1,2,3,4가   \n",
       "388         NaT   312  종로1,2,3,4가   \n",
       "389         NaT  3286  종로1,2,3,4가   \n",
       "390         NaT  3286  종로1,2,3,4가   \n",
       "\n",
       "                                             도로명전체주소  ... Unnamed: 0.1.1.1  \\\n",
       "0       서울특별시 종로구 종로 19 (종로1가,르메이르종로타운 (지하2층 B205호))  ...            108.0   \n",
       "1                   서울특별시 종로구 종로 116-2 (종로3가,(지상1층))  ...            121.0   \n",
       "2      서울특별시 종로구 종로 19, 지하2층 224호 (종로1가, 르메이에르 종로타운)  ...            125.0   \n",
       "3                   서울특별시 종로구 종로 146-1 (종로3가,(지상1층))  ...            146.0   \n",
       "4                          서울특별시 종로구 종로 111-1 (종로3가)  ...            329.0   \n",
       "..                                               ...  ...              ...   \n",
       "386          서울특별시 종로구 종로 51, 종로타워 지하2층 B201호 (종로2가)  ...          18742.0   \n",
       "387                       서울특별시 종로구 종로 61, 3층 (종로2가)  ...          18749.0   \n",
       "388  서울특별시 종로구 종로 19, 르메이에르종로타운1 지하2층 B216-1호 (종로1가)  ...          18753.0   \n",
       "389                       서울특별시 종로구 돈화문로4길 41 (종로3가)  ...          18771.0   \n",
       "390                       서울특별시 종로구 수표로20길 43 (종로3가)  ...          18807.0   \n",
       "\n",
       "                                        소재지전체주소             사업장명  \\\n",
       "0      서울특별시 종로구 종로1가 24 르메이르종로타운 (지하2층 B205호)                소통   \n",
       "1                서울특별시 종로구 종로3가 116-1번지 (지상1층)             키다리아찌   \n",
       "2                          서울특별시 종로구 종로1가 24번지               플루토   \n",
       "3                서울특별시 종로구 종로3가 156-1번지 (지상1층)              김밥친구   \n",
       "4                         서울특별시 종로구 종로3가 6-0번지               태라스   \n",
       "..                                          ...              ...   \n",
       "386                    서울특별시 종로구 종로2가 6번지 종로타워   알리바바 쏙쏙김밥 종로타워점   \n",
       "387                         서울특별시 종로구 종로2가 7번지               경희궁   \n",
       "388  서울특별시 종로구 종로1가 24 르메이에르종로타운1 지하2층 B216-1호          오부장 보쌈족발   \n",
       "389                       서울특별시 종로구 종로3가 170번지               왕벌집   \n",
       "390                       서울특별시 종로구 종로3가 132-1            가르텐 비어   \n",
       "\n",
       "           좌표정보(X)        좌표정보(Y)          경도         위도  번호  business status  \\\n",
       "0    198150.300374  452019.212643  126.976960  37.570459 NaN              0.0   \n",
       "1    199094.585494  451972.782867  126.987649  37.570042 NaN              0.0   \n",
       "2    198150.300374  452019.212643  126.976960  37.570459 NaN              0.0   \n",
       "3    199383.197682  451993.773380  126.990916  37.570231 NaN              0.0   \n",
       "4    199041.009248  452032.239571  126.987043  37.570578 NaN              0.0   \n",
       "..             ...            ...         ...        ...  ..              ...   \n",
       "386  198504.772724  452018.161512  126.980973  37.570450 NaN              1.0   \n",
       "387  198542.918840  452016.496548  126.981404  37.570435 NaN              1.0   \n",
       "388  198150.300374  452019.212643  126.976960  37.570459 NaN              1.0   \n",
       "389  199455.321850  451983.721699  126.991732  37.570141 NaN              1.0   \n",
       "390  199217.330754  451974.244324  126.989038  37.570055 NaN              1.0   \n",
       "\n",
       "     행정동  \n",
       "0    4.0  \n",
       "1    4.0  \n",
       "2    4.0  \n",
       "3    4.0  \n",
       "4    4.0  \n",
       "..   ...  \n",
       "386  4.0  \n",
       "387  4.0  \n",
       "388  4.0  \n",
       "389  4.0  \n",
       "390  4.0  \n",
       "\n",
       "[391 rows x 29 columns]"
      ]
     },
     "execution_count": 322,
     "metadata": {},
     "output_type": "execute_result"
    }
   ],
   "source": [
    "종로"
   ]
  },
  {
   "cell_type": "code",
   "execution_count": 369,
   "metadata": {},
   "outputs": [
    {
     "data": {
      "text/plain": [
       "<lifelines.KaplanMeierFitter:\"연남동\", fitted with 986 total observations, 542 right-censored observations>"
      ]
     },
     "execution_count": 369,
     "metadata": {},
     "output_type": "execute_result"
    }
   ],
   "source": [
    "kmf_a.fit(durations=한남['영업일'], event_observed=한남['business status'],label='한남동')\n",
    "kmf_b.fit(durations=압구정['영업일'], event_observed=압구정['business status'],label='압구정동')\n",
    "kmf_c.fit(durations=성수1가['영업일'], event_observed=성수1가['business status'],label='성수1가')\n",
    "kmf_d.fit(durations=성수2가['영업일'], event_observed=성수2가['business status'],label='성수2가')\n",
    "kmf_e.fit(durations=종로['영업일'], event_observed=종로['business status'],label='종로')\n",
    "kmf_f.fit(durations=여의도['영업일'], event_observed=여의도['business status'],label='여의도동')\n",
    "kmf_g.fit(durations=연남['영업일'], event_observed=연남['business status'],label='연남동')"
   ]
  },
  {
   "cell_type": "code",
   "execution_count": 449,
   "metadata": {},
   "outputs": [
    {
     "data": {
      "text/plain": [
       "2.565615149167139e-05"
      ]
     },
     "execution_count": 449,
     "metadata": {},
     "output_type": "execute_result"
    }
   ],
   "source": [
    "from lifelines.statistics import logrank_test\n",
    "logrank_test(연남['영업일'], 성수1가['영업일'], 연남['business status'], 성수1가['business status']).p_value"
   ]
  },
  {
   "cell_type": "code",
   "execution_count": null,
   "metadata": {},
   "outputs": [],
   "source": []
  },
  {
   "cell_type": "code",
   "execution_count": 443,
   "metadata": {},
   "outputs": [
    {
     "name": "stdout",
     "output_type": "stream",
     "text": [
      "Note: you may need to restart the kernel to use updated packages.\n"
     ]
    },
    {
     "name": "stderr",
     "output_type": "stream",
     "text": [
      "ERROR: unknown command \"lifelines.statistics\"\n",
      "\n"
     ]
    }
   ],
   "source": [
    "pip lifelines.statistics"
   ]
  },
  {
   "cell_type": "code",
   "execution_count": 13,
   "metadata": {},
   "outputs": [
    {
     "data": {
      "text/html": [
       "<div>\n",
       "<style scoped>\n",
       "    .dataframe tbody tr th:only-of-type {\n",
       "        vertical-align: middle;\n",
       "    }\n",
       "\n",
       "    .dataframe tbody tr th {\n",
       "        vertical-align: top;\n",
       "    }\n",
       "\n",
       "    .dataframe thead th {\n",
       "        text-align: right;\n",
       "    }\n",
       "</style>\n",
       "<table border=\"1\" class=\"dataframe\">\n",
       "  <thead>\n",
       "    <tr style=\"text-align: right;\">\n",
       "      <th></th>\n",
       "      <th>removed</th>\n",
       "      <th>observed</th>\n",
       "      <th>censored</th>\n",
       "      <th>entrance</th>\n",
       "      <th>at_risk</th>\n",
       "    </tr>\n",
       "    <tr>\n",
       "      <th>event_at</th>\n",
       "      <th></th>\n",
       "      <th></th>\n",
       "      <th></th>\n",
       "      <th></th>\n",
       "      <th></th>\n",
       "    </tr>\n",
       "  </thead>\n",
       "  <tbody>\n",
       "    <tr>\n",
       "      <th>0.0</th>\n",
       "      <td>0</td>\n",
       "      <td>0</td>\n",
       "      <td>0</td>\n",
       "      <td>1131</td>\n",
       "      <td>1131</td>\n",
       "    </tr>\n",
       "    <tr>\n",
       "      <th>5.0</th>\n",
       "      <td>1</td>\n",
       "      <td>1</td>\n",
       "      <td>0</td>\n",
       "      <td>0</td>\n",
       "      <td>1131</td>\n",
       "    </tr>\n",
       "    <tr>\n",
       "      <th>7.0</th>\n",
       "      <td>1</td>\n",
       "      <td>0</td>\n",
       "      <td>1</td>\n",
       "      <td>0</td>\n",
       "      <td>1130</td>\n",
       "    </tr>\n",
       "    <tr>\n",
       "      <th>11.0</th>\n",
       "      <td>1</td>\n",
       "      <td>1</td>\n",
       "      <td>0</td>\n",
       "      <td>0</td>\n",
       "      <td>1129</td>\n",
       "    </tr>\n",
       "    <tr>\n",
       "      <th>13.0</th>\n",
       "      <td>2</td>\n",
       "      <td>1</td>\n",
       "      <td>1</td>\n",
       "      <td>0</td>\n",
       "      <td>1128</td>\n",
       "    </tr>\n",
       "    <tr>\n",
       "      <th>...</th>\n",
       "      <td>...</td>\n",
       "      <td>...</td>\n",
       "      <td>...</td>\n",
       "      <td>...</td>\n",
       "      <td>...</td>\n",
       "    </tr>\n",
       "    <tr>\n",
       "      <th>14663.0</th>\n",
       "      <td>1</td>\n",
       "      <td>1</td>\n",
       "      <td>0</td>\n",
       "      <td>0</td>\n",
       "      <td>5</td>\n",
       "    </tr>\n",
       "    <tr>\n",
       "      <th>14690.0</th>\n",
       "      <td>1</td>\n",
       "      <td>1</td>\n",
       "      <td>0</td>\n",
       "      <td>0</td>\n",
       "      <td>4</td>\n",
       "    </tr>\n",
       "    <tr>\n",
       "      <th>14736.0</th>\n",
       "      <td>1</td>\n",
       "      <td>1</td>\n",
       "      <td>0</td>\n",
       "      <td>0</td>\n",
       "      <td>3</td>\n",
       "    </tr>\n",
       "    <tr>\n",
       "      <th>16247.0</th>\n",
       "      <td>1</td>\n",
       "      <td>1</td>\n",
       "      <td>0</td>\n",
       "      <td>0</td>\n",
       "      <td>2</td>\n",
       "    </tr>\n",
       "    <tr>\n",
       "      <th>16621.0</th>\n",
       "      <td>1</td>\n",
       "      <td>1</td>\n",
       "      <td>0</td>\n",
       "      <td>0</td>\n",
       "      <td>1</td>\n",
       "    </tr>\n",
       "  </tbody>\n",
       "</table>\n",
       "<p>920 rows × 5 columns</p>\n",
       "</div>"
      ],
      "text/plain": [
       "          removed  observed  censored  entrance  at_risk\n",
       "event_at                                                \n",
       "0.0             0         0         0      1131     1131\n",
       "5.0             1         1         0         0     1131\n",
       "7.0             1         0         1         0     1130\n",
       "11.0            1         1         0         0     1129\n",
       "13.0            2         1         1         0     1128\n",
       "...           ...       ...       ...       ...      ...\n",
       "14663.0         1         1         0         0        5\n",
       "14690.0         1         1         0         0        4\n",
       "14736.0         1         1         0         0        3\n",
       "16247.0         1         1         0         0        2\n",
       "16621.0         1         1         0         0        1\n",
       "\n",
       "[920 rows x 5 columns]"
      ]
     },
     "execution_count": 13,
     "metadata": {},
     "output_type": "execute_result"
    }
   ],
   "source": [
    "kmf_a.event_table"
   ]
  },
  {
   "cell_type": "code",
   "execution_count": 14,
   "metadata": {},
   "outputs": [
    {
     "data": {
      "text/html": [
       "<div>\n",
       "<style scoped>\n",
       "    .dataframe tbody tr th:only-of-type {\n",
       "        vertical-align: middle;\n",
       "    }\n",
       "\n",
       "    .dataframe tbody tr th {\n",
       "        vertical-align: top;\n",
       "    }\n",
       "\n",
       "    .dataframe thead th {\n",
       "        text-align: right;\n",
       "    }\n",
       "</style>\n",
       "<table border=\"1\" class=\"dataframe\">\n",
       "  <thead>\n",
       "    <tr style=\"text-align: right;\">\n",
       "      <th></th>\n",
       "      <th>removed</th>\n",
       "      <th>observed</th>\n",
       "      <th>censored</th>\n",
       "      <th>entrance</th>\n",
       "      <th>at_risk</th>\n",
       "    </tr>\n",
       "    <tr>\n",
       "      <th>event_at</th>\n",
       "      <th></th>\n",
       "      <th></th>\n",
       "      <th></th>\n",
       "      <th></th>\n",
       "      <th></th>\n",
       "    </tr>\n",
       "  </thead>\n",
       "  <tbody>\n",
       "    <tr>\n",
       "      <th>0.0</th>\n",
       "      <td>0</td>\n",
       "      <td>0</td>\n",
       "      <td>0</td>\n",
       "      <td>188</td>\n",
       "      <td>188</td>\n",
       "    </tr>\n",
       "    <tr>\n",
       "      <th>3.0</th>\n",
       "      <td>1</td>\n",
       "      <td>0</td>\n",
       "      <td>1</td>\n",
       "      <td>0</td>\n",
       "      <td>188</td>\n",
       "    </tr>\n",
       "    <tr>\n",
       "      <th>4.0</th>\n",
       "      <td>1</td>\n",
       "      <td>0</td>\n",
       "      <td>1</td>\n",
       "      <td>0</td>\n",
       "      <td>187</td>\n",
       "    </tr>\n",
       "    <tr>\n",
       "      <th>11.0</th>\n",
       "      <td>1</td>\n",
       "      <td>0</td>\n",
       "      <td>1</td>\n",
       "      <td>0</td>\n",
       "      <td>186</td>\n",
       "    </tr>\n",
       "    <tr>\n",
       "      <th>15.0</th>\n",
       "      <td>2</td>\n",
       "      <td>0</td>\n",
       "      <td>2</td>\n",
       "      <td>0</td>\n",
       "      <td>185</td>\n",
       "    </tr>\n",
       "    <tr>\n",
       "      <th>...</th>\n",
       "      <td>...</td>\n",
       "      <td>...</td>\n",
       "      <td>...</td>\n",
       "      <td>...</td>\n",
       "      <td>...</td>\n",
       "    </tr>\n",
       "    <tr>\n",
       "      <th>12422.0</th>\n",
       "      <td>1</td>\n",
       "      <td>1</td>\n",
       "      <td>0</td>\n",
       "      <td>0</td>\n",
       "      <td>6</td>\n",
       "    </tr>\n",
       "    <tr>\n",
       "      <th>12425.0</th>\n",
       "      <td>1</td>\n",
       "      <td>1</td>\n",
       "      <td>0</td>\n",
       "      <td>0</td>\n",
       "      <td>5</td>\n",
       "    </tr>\n",
       "    <tr>\n",
       "      <th>12435.0</th>\n",
       "      <td>2</td>\n",
       "      <td>2</td>\n",
       "      <td>0</td>\n",
       "      <td>0</td>\n",
       "      <td>4</td>\n",
       "    </tr>\n",
       "    <tr>\n",
       "      <th>12559.0</th>\n",
       "      <td>1</td>\n",
       "      <td>1</td>\n",
       "      <td>0</td>\n",
       "      <td>0</td>\n",
       "      <td>2</td>\n",
       "    </tr>\n",
       "    <tr>\n",
       "      <th>15179.0</th>\n",
       "      <td>1</td>\n",
       "      <td>1</td>\n",
       "      <td>0</td>\n",
       "      <td>0</td>\n",
       "      <td>1</td>\n",
       "    </tr>\n",
       "  </tbody>\n",
       "</table>\n",
       "<p>177 rows × 5 columns</p>\n",
       "</div>"
      ],
      "text/plain": [
       "          removed  observed  censored  entrance  at_risk\n",
       "event_at                                                \n",
       "0.0             0         0         0       188      188\n",
       "3.0             1         0         1         0      188\n",
       "4.0             1         0         1         0      187\n",
       "11.0            1         0         1         0      186\n",
       "15.0            2         0         2         0      185\n",
       "...           ...       ...       ...       ...      ...\n",
       "12422.0         1         1         0         0        6\n",
       "12425.0         1         1         0         0        5\n",
       "12435.0         2         2         0         0        4\n",
       "12559.0         1         1         0         0        2\n",
       "15179.0         1         1         0         0        1\n",
       "\n",
       "[177 rows x 5 columns]"
      ]
     },
     "execution_count": 14,
     "metadata": {},
     "output_type": "execute_result"
    }
   ],
   "source": [
    "kmf_b.event_table"
   ]
  },
  {
   "cell_type": "code",
   "execution_count": 329,
   "metadata": {},
   "outputs": [
    {
     "name": "stdout",
     "output_type": "stream",
     "text": [
      "0.5033479376725908\n",
      "0.6380487180379664\n",
      "0.4843639462884369\n",
      "0.617740109460006\n",
      "0.631558371239005\n",
      "0.7080088550089676\n",
      "0.31153892444771164\n"
     ]
    }
   ],
   "source": [
    "#생존확률 예측\n",
    "a = [kmf_a, kmf_b, kmf_c, kmf_d, kmf_e, kmf_f, kmf_g]\n",
    "for i in a :\n",
    "    print(i.predict(3000))   "
   ]
  },
  {
   "cell_type": "code",
   "execution_count": 16,
   "metadata": {},
   "outputs": [
    {
     "data": {
      "text/html": [
       "<div>\n",
       "<style scoped>\n",
       "    .dataframe tbody tr th:only-of-type {\n",
       "        vertical-align: middle;\n",
       "    }\n",
       "\n",
       "    .dataframe tbody tr th {\n",
       "        vertical-align: top;\n",
       "    }\n",
       "\n",
       "    .dataframe thead th {\n",
       "        text-align: right;\n",
       "    }\n",
       "</style>\n",
       "<table border=\"1\" class=\"dataframe\">\n",
       "  <thead>\n",
       "    <tr style=\"text-align: right;\">\n",
       "      <th></th>\n",
       "      <th>한남동</th>\n",
       "    </tr>\n",
       "    <tr>\n",
       "      <th>timeline</th>\n",
       "      <th></th>\n",
       "    </tr>\n",
       "  </thead>\n",
       "  <tbody>\n",
       "    <tr>\n",
       "      <th>0.0</th>\n",
       "      <td>1.000000</td>\n",
       "    </tr>\n",
       "    <tr>\n",
       "      <th>5.0</th>\n",
       "      <td>0.999116</td>\n",
       "    </tr>\n",
       "    <tr>\n",
       "      <th>7.0</th>\n",
       "      <td>0.999116</td>\n",
       "    </tr>\n",
       "    <tr>\n",
       "      <th>11.0</th>\n",
       "      <td>0.998231</td>\n",
       "    </tr>\n",
       "    <tr>\n",
       "      <th>13.0</th>\n",
       "      <td>0.997346</td>\n",
       "    </tr>\n",
       "    <tr>\n",
       "      <th>...</th>\n",
       "      <td>...</td>\n",
       "    </tr>\n",
       "    <tr>\n",
       "      <th>14663.0</th>\n",
       "      <td>0.011778</td>\n",
       "    </tr>\n",
       "    <tr>\n",
       "      <th>14690.0</th>\n",
       "      <td>0.008833</td>\n",
       "    </tr>\n",
       "    <tr>\n",
       "      <th>14736.0</th>\n",
       "      <td>0.005889</td>\n",
       "    </tr>\n",
       "    <tr>\n",
       "      <th>16247.0</th>\n",
       "      <td>0.002944</td>\n",
       "    </tr>\n",
       "    <tr>\n",
       "      <th>16621.0</th>\n",
       "      <td>0.000000</td>\n",
       "    </tr>\n",
       "  </tbody>\n",
       "</table>\n",
       "<p>920 rows × 1 columns</p>\n",
       "</div>"
      ],
      "text/plain": [
       "               한남동\n",
       "timeline          \n",
       "0.0       1.000000\n",
       "5.0       0.999116\n",
       "7.0       0.999116\n",
       "11.0      0.998231\n",
       "13.0      0.997346\n",
       "...            ...\n",
       "14663.0   0.011778\n",
       "14690.0   0.008833\n",
       "14736.0   0.005889\n",
       "16247.0   0.002944\n",
       "16621.0   0.000000\n",
       "\n",
       "[920 rows x 1 columns]"
      ]
     },
     "execution_count": 16,
     "metadata": {},
     "output_type": "execute_result"
    }
   ],
   "source": [
    "kmf_a.survival_function_"
   ]
  },
  {
   "cell_type": "code",
   "execution_count": 332,
   "metadata": {
    "scrolled": true
   },
   "outputs": [
    {
     "data": {
      "text/plain": [
       "<AxesSubplot:xlabel='timeline'>"
      ]
     },
     "execution_count": 332,
     "metadata": {},
     "output_type": "execute_result"
    },
    {
     "data": {
      "image/png": "[encoded data removed]",
      "text/plain": [
       "<Figure size 432x288 with 1 Axes>"
      ]
     },
     "metadata": {
      "needs_background": "light"
     },
     "output_type": "display_data"
    }
   ],
   "source": [
    "kmf_b.survival_function_.plot()"
   ]
  },
  {
   "cell_type": "code",
   "execution_count": 21,
   "metadata": {},
   "outputs": [
    {
     "name": "stderr",
     "output_type": "stream",
     "text": [
      "C:\\Users\\jimin.DESKTOP-8V20QSQ\\AppData\\Local\\Temp\\ipykernel_19336\\1589279791.py:5: MatplotlibDeprecationWarning: \n",
      "The get_fontconfig_fonts function was deprecated in Matplotlib 3.5 and will be removed two minor releases later.\n",
      "  fm.get_fontconfig_fonts()\n"
     ]
    }
   ],
   "source": [
    "# 한글 폰트 설정\n",
    "import matplotlib\n",
    "import matplotlib.font_manager as fm\n",
    "\n",
    "fm.get_fontconfig_fonts()\n",
    "font_location = 'C:/Users/jimin.DESKTOP-8V20QSQ/Desktop/NanumGothic.ttf'\n",
    "font_name = fm.FontProperties(fname=font_location).get_name()\n",
    "matplotlib.rc('font', family=font_name)"
   ]
  },
  {
   "cell_type": "code",
   "execution_count": 22,
   "metadata": {},
   "outputs": [],
   "source": [
    "import platform\n",
    "import matplotlib.pyplot as plt\n",
    "platform.system()\n",
    "\n",
    "if platform.system() == 'Darwin': # Mac 환경 폰트 설정\n",
    "    plt.rc('font', family='AppleGothic')\n",
    "elif platform.system() == 'Windows': # Windows 환경 폰트 설정\n",
    "    plt.rc('font', family='Malgun Gothic')"
   ]
  },
  {
   "cell_type": "code",
   "execution_count": 330,
   "metadata": {},
   "outputs": [
    {
     "data": {
      "image/png": "[encoded data removed]",
      "text/plain": [
       "<Figure size 432x288 with 1 Axes>"
      ]
     },
     "metadata": {
      "needs_background": "light"
     },
     "output_type": "display_data"
    }
   ],
   "source": [
    "#plot the survival_function data (생존 함수)\n",
    "#plt.figure((12, 8))\n",
    "#plt.xlabel('Survival period')\n",
    "kmf_a.plot(ci_show=False)\n",
    "kmf_b.plot(ci_show=False)\n",
    "kmf_c.plot(ci_show=False)\n",
    "kmf_d.plot(ci_show=False)\n",
    "kmf_e.plot(ci_show=False)\n",
    "kmf_f.plot(ci_show=False)\n",
    "plot = kmf_g.plot(ci_show=False)\n",
    "plot.set_xlabel('Survival period(Days)')\n",
    "plot.set_ylabel('Survival Rate')\n",
    "plt.savefig('생존함수.png')"
   ]
  },
  {
   "cell_type": "code",
   "execution_count": 370,
   "metadata": {},
   "outputs": [
    {
     "data": {
      "image/png": "[encoded data removed]",
      "text/plain": [
       "<Figure size 432x288 with 1 Axes>"
      ]
     },
     "metadata": {
      "needs_background": "light"
     },
     "output_type": "display_data"
    }
   ],
   "source": [
    "# 특정 타임라인에 가게가 폐업할 확률을 제공\n",
    "kmf_a.plot_cumulative_density(ci_show=False)\n",
    "kmf_b.plot_cumulative_density(ci_show=False)\n",
    "kmf_c.plot_cumulative_density(ci_show=False)\n",
    "kmf_d.plot_cumulative_density(ci_show=False)\n",
    "kmf_e.plot_cumulative_density(ci_show=False)\n",
    "kmf_f.plot_cumulative_density(ci_show=False)\n",
    "plot = kmf_g.plot_cumulative_density(ci_show=False)\n",
    "plot.set_xlabel('Survival period(Days)')\n",
    "plot.set_ylabel('Survival Rate')\n",
    "plt.savefig('폐업함수.png')"
   ]
  },
  {
   "cell_type": "code",
   "execution_count": 419,
   "metadata": {},
   "outputs": [],
   "source": [
    "df3 = df.loc[:, ['영업상태명',\n",
    "                 '영업일','distance to intersection(m)',\n",
    "                 '가장 가까운 버스정류장까지 거리','가장 가까운 공원까지 거리',\n",
    "                 'distance to station(m)','레스토랑 규모 성장률','retail_성장률','house_성장률']]"
   ]
  },
  {
   "cell_type": "code",
   "execution_count": 420,
   "metadata": {},
   "outputs": [],
   "source": [
    "df3['폐업여부'] = df3['영업상태명'].apply(lambda x : 0 if x=='폐업' else 1)"
   ]
  },
  {
   "cell_type": "code",
   "execution_count": 411,
   "metadata": {},
   "outputs": [],
   "source": [
    "df_dummy=pd.get_dummies(df3, drop_first=True)"
   ]
  },
  {
   "cell_type": "code",
   "execution_count": 417,
   "metadata": {
    "scrolled": true
   },
   "outputs": [
    {
     "data": {
      "text/html": [
       "<div>\n",
       "<style scoped>\n",
       "    .dataframe tbody tr th:only-of-type {\n",
       "        vertical-align: middle;\n",
       "    }\n",
       "\n",
       "    .dataframe tbody tr th {\n",
       "        vertical-align: top;\n",
       "    }\n",
       "\n",
       "    .dataframe thead th {\n",
       "        text-align: right;\n",
       "    }\n",
       "</style>\n",
       "<table border=\"1\" class=\"dataframe\">\n",
       "  <thead>\n",
       "    <tr style=\"text-align: right;\">\n",
       "      <th></th>\n",
       "      <th>영업일</th>\n",
       "      <th>distance to intersection(m)</th>\n",
       "      <th>가장 가까운 버스정류장까지 거리</th>\n",
       "      <th>가장 가까운 공원까지 거리</th>\n",
       "      <th>distance to station(m)</th>\n",
       "      <th>레스토랑 규모 성장률</th>\n",
       "      <th>retail_성장률</th>\n",
       "      <th>house_성장률</th>\n",
       "      <th>폐업여부</th>\n",
       "      <th>동_성수동2가</th>\n",
       "      <th>동_압구정동</th>\n",
       "      <th>동_여의동</th>\n",
       "      <th>동_연남동</th>\n",
       "      <th>동_종로1,2,3,4가</th>\n",
       "      <th>동_한남동</th>\n",
       "    </tr>\n",
       "  </thead>\n",
       "  <tbody>\n",
       "    <tr>\n",
       "      <th>2</th>\n",
       "      <td>2659</td>\n",
       "      <td>177.793770</td>\n",
       "      <td>66.627484</td>\n",
       "      <td>391.359780</td>\n",
       "      <td>324.846786</td>\n",
       "      <td>4.385566</td>\n",
       "      <td>19.508490</td>\n",
       "      <td>32.9</td>\n",
       "      <td>1</td>\n",
       "      <td>0</td>\n",
       "      <td>1</td>\n",
       "      <td>0</td>\n",
       "      <td>0</td>\n",
       "      <td>0</td>\n",
       "      <td>0</td>\n",
       "    </tr>\n",
       "    <tr>\n",
       "      <th>3</th>\n",
       "      <td>2664</td>\n",
       "      <td>177.793770</td>\n",
       "      <td>66.627484</td>\n",
       "      <td>391.359780</td>\n",
       "      <td>324.846786</td>\n",
       "      <td>4.385566</td>\n",
       "      <td>19.508490</td>\n",
       "      <td>32.9</td>\n",
       "      <td>1</td>\n",
       "      <td>0</td>\n",
       "      <td>1</td>\n",
       "      <td>0</td>\n",
       "      <td>0</td>\n",
       "      <td>0</td>\n",
       "      <td>0</td>\n",
       "    </tr>\n",
       "    <tr>\n",
       "      <th>4</th>\n",
       "      <td>3286</td>\n",
       "      <td>177.793770</td>\n",
       "      <td>66.627484</td>\n",
       "      <td>391.359780</td>\n",
       "      <td>324.846786</td>\n",
       "      <td>-1.339038</td>\n",
       "      <td>11.871787</td>\n",
       "      <td>20.2</td>\n",
       "      <td>1</td>\n",
       "      <td>0</td>\n",
       "      <td>1</td>\n",
       "      <td>0</td>\n",
       "      <td>0</td>\n",
       "      <td>0</td>\n",
       "      <td>0</td>\n",
       "    </tr>\n",
       "    <tr>\n",
       "      <th>5</th>\n",
       "      <td>1265</td>\n",
       "      <td>438.022193</td>\n",
       "      <td>209.984617</td>\n",
       "      <td>178.538094</td>\n",
       "      <td>343.484076</td>\n",
       "      <td>5.168081</td>\n",
       "      <td>11.892096</td>\n",
       "      <td>16.0</td>\n",
       "      <td>1</td>\n",
       "      <td>0</td>\n",
       "      <td>1</td>\n",
       "      <td>0</td>\n",
       "      <td>0</td>\n",
       "      <td>0</td>\n",
       "      <td>0</td>\n",
       "    </tr>\n",
       "    <tr>\n",
       "      <th>6</th>\n",
       "      <td>1499</td>\n",
       "      <td>438.022193</td>\n",
       "      <td>209.984617</td>\n",
       "      <td>178.538094</td>\n",
       "      <td>343.484076</td>\n",
       "      <td>-2.992106</td>\n",
       "      <td>7.429164</td>\n",
       "      <td>21.2</td>\n",
       "      <td>1</td>\n",
       "      <td>0</td>\n",
       "      <td>1</td>\n",
       "      <td>0</td>\n",
       "      <td>0</td>\n",
       "      <td>0</td>\n",
       "      <td>0</td>\n",
       "    </tr>\n",
       "  </tbody>\n",
       "</table>\n",
       "</div>"
      ],
      "text/plain": [
       "    영업일  distance to intersection(m)  가장 가까운 버스정류장까지 거리  가장 가까운 공원까지 거리  \\\n",
       "2  2659                   177.793770          66.627484      391.359780   \n",
       "3  2664                   177.793770          66.627484      391.359780   \n",
       "4  3286                   177.793770          66.627484      391.359780   \n",
       "5  1265                   438.022193         209.984617      178.538094   \n",
       "6  1499                   438.022193         209.984617      178.538094   \n",
       "\n",
       "   distance to station(m)  레스토랑 규모 성장률  retail_성장률  house_성장률  폐업여부  동_성수동2가  \\\n",
       "2              324.846786     4.385566   19.508490       32.9     1        0   \n",
       "3              324.846786     4.385566   19.508490       32.9     1        0   \n",
       "4              324.846786    -1.339038   11.871787       20.2     1        0   \n",
       "5              343.484076     5.168081   11.892096       16.0     1        0   \n",
       "6              343.484076    -2.992106    7.429164       21.2     1        0   \n",
       "\n",
       "   동_압구정동  동_여의동  동_연남동  동_종로1,2,3,4가  동_한남동  \n",
       "2       1      0      0             0      0  \n",
       "3       1      0      0             0      0  \n",
       "4       1      0      0             0      0  \n",
       "5       1      0      0             0      0  \n",
       "6       1      0      0             0      0  "
      ]
     },
     "execution_count": 417,
     "metadata": {},
     "output_type": "execute_result"
    }
   ],
   "source": [
    "df_dummy.head()"
   ]
  },
  {
   "cell_type": "code",
   "execution_count": 414,
   "metadata": {},
   "outputs": [],
   "source": [
    "df_dummy.drop('영업상태명_폐업', inplace=True, axis=1)"
   ]
  },
  {
   "cell_type": "code",
   "execution_count": 423,
   "metadata": {},
   "outputs": [],
   "source": [
    "df3.drop('영업상태명', inplace=True, axis=1)"
   ]
  },
  {
   "cell_type": "code",
   "execution_count": 415,
   "metadata": {},
   "outputs": [
    {
     "data": {
      "text/plain": [
       "영업일                            0\n",
       "distance to intersection(m)    0\n",
       "가장 가까운 버스정류장까지 거리              0\n",
       "가장 가까운 공원까지 거리                 0\n",
       "distance to station(m)         0\n",
       "레스토랑 규모 성장률                    0\n",
       "retail_성장률                     0\n",
       "house_성장률                      0\n",
       "폐업여부                           0\n",
       "동_성수동2가                        0\n",
       "동_압구정동                         0\n",
       "동_여의동                          0\n",
       "동_연남동                          0\n",
       "동_종로1,2,3,4가                   0\n",
       "동_한남동                          0\n",
       "dtype: int64"
      ]
     },
     "execution_count": 415,
     "metadata": {},
     "output_type": "execute_result"
    }
   ],
   "source": [
    "df_dummy.isnull().sum()"
   ]
  },
  {
   "cell_type": "markdown",
   "metadata": {},
   "source": [
    "   # 콕스 위험비례모형"
   ]
  },
  {
   "cell_type": "code",
   "execution_count": 450,
   "metadata": {
    "scrolled": false
   },
   "outputs": [
    {
     "name": "stderr",
     "output_type": "stream",
     "text": [
      "C:\\Users\\jimin.DESKTOP-8V20QSQ\\anaconda3\\lib\\site-packages\\lifelines\\utils\\printer.py:62: FutureWarning: In future versions `DataFrame.to_latex` is expected to utilise the base implementation of `Styler.to_latex` for formatting and rendering. The arguments signature may therefore change. It is recommended instead to use `DataFrame.style.to_latex` which also contains additional functionality.\n",
      "  return summary_df[columns].to_latex(float_format=\"%.\" + str(self.decimals) + \"f\")\n"
     ]
    },
    {
     "data": {
      "text/html": [
       "<div>\n",
       "<style scoped>\n",
       "    .dataframe tbody tr th:only-of-type {\n",
       "        vertical-align: middle;\n",
       "    }\n",
       "\n",
       "    .dataframe tbody tr th {\n",
       "        vertical-align: top;\n",
       "    }\n",
       "\n",
       "    .dataframe thead th {\n",
       "        text-align: right;\n",
       "    }\n",
       "</style>\n",
       "<table border=\"1\" class=\"dataframe\">\n",
       "  <tbody>\n",
       "    <tr>\n",
       "      <th>model</th>\n",
       "      <td>lifelines.CoxPHFitter</td>\n",
       "    </tr>\n",
       "    <tr>\n",
       "      <th>duration col</th>\n",
       "      <td>'영업일'</td>\n",
       "    </tr>\n",
       "    <tr>\n",
       "      <th>event col</th>\n",
       "      <td>'폐업여부'</td>\n",
       "    </tr>\n",
       "    <tr>\n",
       "      <th>baseline estimation</th>\n",
       "      <td>breslow</td>\n",
       "    </tr>\n",
       "    <tr>\n",
       "      <th>number of observations</th>\n",
       "      <td>6404</td>\n",
       "    </tr>\n",
       "    <tr>\n",
       "      <th>number of events observed</th>\n",
       "      <td>3215</td>\n",
       "    </tr>\n",
       "    <tr>\n",
       "      <th>partial log-likelihood</th>\n",
       "      <td>-23687.0554</td>\n",
       "    </tr>\n",
       "    <tr>\n",
       "      <th>time fit was run</th>\n",
       "      <td>2022-08-14 02:10:10 UTC</td>\n",
       "    </tr>\n",
       "  </tbody>\n",
       "</table>\n",
       "</div><table border=\"1\" class=\"dataframe\">\n",
       "  <thead>\n",
       "    <tr style=\"text-align: right;\">\n",
       "      <th style=\"min-width: 12px;\"></th>\n",
       "      <th style=\"min-width: 12px;\">coef</th>\n",
       "      <th style=\"min-width: 12px;\">exp(coef)</th>\n",
       "      <th style=\"min-width: 12px;\">se(coef)</th>\n",
       "      <th style=\"min-width: 12px;\">coef lower 95%</th>\n",
       "      <th style=\"min-width: 12px;\">coef upper 95%</th>\n",
       "      <th style=\"min-width: 12px;\">exp(coef) lower 95%</th>\n",
       "      <th style=\"min-width: 12px;\">exp(coef) upper 95%</th>\n",
       "      <th style=\"min-width: 12px;\">cmp to</th>\n",
       "      <th style=\"min-width: 12px;\">z</th>\n",
       "      <th style=\"min-width: 12px;\">p</th>\n",
       "      <th style=\"min-width: 12px;\">-log2(p)</th>\n",
       "    </tr>\n",
       "  </thead>\n",
       "  <tbody>\n",
       "    <tr>\n",
       "      <th>distance to intersection(m)</th>\n",
       "      <td>-0.0008</td>\n",
       "      <td>0.9992</td>\n",
       "      <td>0.0002</td>\n",
       "      <td>-0.0012</td>\n",
       "      <td>-0.0004</td>\n",
       "      <td>0.9988</td>\n",
       "      <td>0.9996</td>\n",
       "      <td>0.0000</td>\n",
       "      <td>-4.0419</td>\n",
       "      <td>0.0001</td>\n",
       "      <td>14.2034</td>\n",
       "    </tr>\n",
       "    <tr>\n",
       "      <th>가장 가까운 버스정류장까지 거리</th>\n",
       "      <td>0.0008</td>\n",
       "      <td>1.0008</td>\n",
       "      <td>0.0002</td>\n",
       "      <td>0.0005</td>\n",
       "      <td>0.0012</td>\n",
       "      <td>1.0005</td>\n",
       "      <td>1.0012</td>\n",
       "      <td>0.0000</td>\n",
       "      <td>4.5642</td>\n",
       "      <td>&lt;5e-05</td>\n",
       "      <td>17.6053</td>\n",
       "    </tr>\n",
       "    <tr>\n",
       "      <th>가장 가까운 공원까지 거리</th>\n",
       "      <td>-0.0001</td>\n",
       "      <td>0.9999</td>\n",
       "      <td>0.0000</td>\n",
       "      <td>-0.0002</td>\n",
       "      <td>-0.0000</td>\n",
       "      <td>0.9998</td>\n",
       "      <td>1.0000</td>\n",
       "      <td>0.0000</td>\n",
       "      <td>-2.1981</td>\n",
       "      <td>0.0279</td>\n",
       "      <td>5.1616</td>\n",
       "    </tr>\n",
       "    <tr>\n",
       "      <th>distance to station(m)</th>\n",
       "      <td>0.0005</td>\n",
       "      <td>1.0005</td>\n",
       "      <td>0.0001</td>\n",
       "      <td>0.0003</td>\n",
       "      <td>0.0007</td>\n",
       "      <td>1.0003</td>\n",
       "      <td>1.0007</td>\n",
       "      <td>0.0000</td>\n",
       "      <td>5.4915</td>\n",
       "      <td>&lt;5e-05</td>\n",
       "      <td>24.5804</td>\n",
       "    </tr>\n",
       "    <tr>\n",
       "      <th>레스토랑 규모 성장률</th>\n",
       "      <td>-0.0610</td>\n",
       "      <td>0.9408</td>\n",
       "      <td>0.0026</td>\n",
       "      <td>-0.0661</td>\n",
       "      <td>-0.0559</td>\n",
       "      <td>0.9361</td>\n",
       "      <td>0.9456</td>\n",
       "      <td>0.0000</td>\n",
       "      <td>-23.5319</td>\n",
       "      <td>&lt;5e-05</td>\n",
       "      <td>404.3300</td>\n",
       "    </tr>\n",
       "    <tr>\n",
       "      <th>retail_성장률</th>\n",
       "      <td>-0.0453</td>\n",
       "      <td>0.9557</td>\n",
       "      <td>0.0024</td>\n",
       "      <td>-0.0500</td>\n",
       "      <td>-0.0406</td>\n",
       "      <td>0.9512</td>\n",
       "      <td>0.9602</td>\n",
       "      <td>0.0000</td>\n",
       "      <td>-18.7911</td>\n",
       "      <td>&lt;5e-05</td>\n",
       "      <td>259.2745</td>\n",
       "    </tr>\n",
       "    <tr>\n",
       "      <th>house_성장률</th>\n",
       "      <td>-0.0191</td>\n",
       "      <td>0.9811</td>\n",
       "      <td>0.0030</td>\n",
       "      <td>-0.0250</td>\n",
       "      <td>-0.0131</td>\n",
       "      <td>0.9753</td>\n",
       "      <td>0.9870</td>\n",
       "      <td>0.0000</td>\n",
       "      <td>-6.2905</td>\n",
       "      <td>&lt;5e-05</td>\n",
       "      <td>31.5570</td>\n",
       "    </tr>\n",
       "  </tbody>\n",
       "</table><br><div>\n",
       "<style scoped>\n",
       "    .dataframe tbody tr th:only-of-type {\n",
       "        vertical-align: middle;\n",
       "    }\n",
       "\n",
       "    .dataframe tbody tr th {\n",
       "        vertical-align: top;\n",
       "    }\n",
       "\n",
       "    .dataframe thead th {\n",
       "        text-align: right;\n",
       "    }\n",
       "</style>\n",
       "<table border=\"1\" class=\"dataframe\">\n",
       "  <tbody>\n",
       "    <tr>\n",
       "      <th>Concordance</th>\n",
       "      <td>0.4950</td>\n",
       "    </tr>\n",
       "    <tr>\n",
       "      <th>Partial AIC</th>\n",
       "      <td>47388.1107</td>\n",
       "    </tr>\n",
       "    <tr>\n",
       "      <th>log-likelihood ratio test</th>\n",
       "      <td>1118.6653 on 7 df</td>\n",
       "    </tr>\n",
       "    <tr>\n",
       "      <th>-log2(p) of ll-ratio test</th>\n",
       "      <td>785.8537</td>\n",
       "    </tr>\n",
       "  </tbody>\n",
       "</table>\n",
       "</div>"
      ],
      "text/latex": [
       "\\begin{tabular}{lrrrrrrrrrrr}\n",
       "\\toprule\n",
       "{} &    coef &  exp(coef) &  se(coef) &  coef lower 95\\% &  coef upper 95\\% &  exp(coef) lower 95\\% &  exp(coef) upper 95\\% &  cmp to &        z &      p &  -log2(p) \\\\\n",
       "covariate                   &         &            &           &                 &                 &                      &                      &         &          &        &           \\\\\n",
       "\\midrule\n",
       "distance to intersection(m) & -0.0008 &     0.9992 &    0.0002 &         -0.0012 &         -0.0004 &               0.9988 &               0.9996 &  0.0000 &  -4.0419 & 0.0001 &   14.2034 \\\\\n",
       "가장 가까운 버스정류장까지 거리           &  0.0008 &     1.0008 &    0.0002 &          0.0005 &          0.0012 &               1.0005 &               1.0012 &  0.0000 &   4.5642 & 0.0000 &   17.6053 \\\\\n",
       "가장 가까운 공원까지 거리              & -0.0001 &     0.9999 &    0.0000 &         -0.0002 &         -0.0000 &               0.9998 &               1.0000 &  0.0000 &  -2.1981 & 0.0279 &    5.1616 \\\\\n",
       "distance to station(m)      &  0.0005 &     1.0005 &    0.0001 &          0.0003 &          0.0007 &               1.0003 &               1.0007 &  0.0000 &   5.4915 & 0.0000 &   24.5804 \\\\\n",
       "레스토랑 규모 성장률                 & -0.0610 &     0.9408 &    0.0026 &         -0.0661 &         -0.0559 &               0.9361 &               0.9456 &  0.0000 & -23.5319 & 0.0000 &  404.3300 \\\\\n",
       "retail\\_성장률                  & -0.0453 &     0.9557 &    0.0024 &         -0.0500 &         -0.0406 &               0.9512 &               0.9602 &  0.0000 & -18.7911 & 0.0000 &  259.2745 \\\\\n",
       "house\\_성장률                   & -0.0191 &     0.9811 &    0.0030 &         -0.0250 &         -0.0131 &               0.9753 &               0.9870 &  0.0000 &  -6.2905 & 0.0000 &   31.5570 \\\\\n",
       "\\bottomrule\n",
       "\\end{tabular}\n"
      ],
      "text/plain": [
       "<lifelines.CoxPHFitter: fitted with 6404 total observations, 3189 right-censored observations>\n",
       "             duration col = '영업일'\n",
       "                event col = '폐업여부'\n",
       "      baseline estimation = breslow\n",
       "   number of observations = 6404\n",
       "number of events observed = 3215\n",
       "   partial log-likelihood = -23687.0554\n",
       "         time fit was run = 2022-08-14 02:10:10 UTC\n",
       "\n",
       "---\n",
       "                               coef  exp(coef)   se(coef)   coef lower 95%   coef upper 95%  exp(coef) lower 95%  exp(coef) upper 95%\n",
       "covariate                                                                                                                            \n",
       "distance to intersection(m) -0.0008     0.9992     0.0002          -0.0012          -0.0004               0.9988               0.9996\n",
       "가장 가까운 버스정류장까지 거리            0.0008     1.0008     0.0002           0.0005           0.0012               1.0005               1.0012\n",
       "가장 가까운 공원까지 거리              -0.0001     0.9999     0.0000          -0.0002          -0.0000               0.9998               1.0000\n",
       "distance to station(m)       0.0005     1.0005     0.0001           0.0003           0.0007               1.0003               1.0007\n",
       "레스토랑 규모 성장률                 -0.0610     0.9408     0.0026          -0.0661          -0.0559               0.9361               0.9456\n",
       "retail_성장률                  -0.0453     0.9557     0.0024          -0.0500          -0.0406               0.9512               0.9602\n",
       "house_성장률                   -0.0191     0.9811     0.0030          -0.0250          -0.0131               0.9753               0.9870\n",
       "\n",
       "                              cmp to        z      p   -log2(p)\n",
       "covariate                                                      \n",
       "distance to intersection(m)   0.0000  -4.0419 0.0001    14.2034\n",
       "가장 가까운 버스정류장까지 거리             0.0000   4.5642 <5e-05    17.6053\n",
       "가장 가까운 공원까지 거리                0.0000  -2.1981 0.0279     5.1616\n",
       "distance to station(m)        0.0000   5.4915 <5e-05    24.5804\n",
       "레스토랑 규모 성장률                   0.0000 -23.5319 <5e-05   404.3300\n",
       "retail_성장률                    0.0000 -18.7911 <5e-05   259.2745\n",
       "house_성장률                     0.0000  -6.2905 <5e-05    31.5570\n",
       "---\n",
       "Concordance = 0.4950\n",
       "Partial AIC = 47388.1107\n",
       "log-likelihood ratio test = 1118.6653 on 7 df\n",
       "-log2(p) of ll-ratio test = 785.8537"
      ]
     },
     "metadata": {},
     "output_type": "display_data"
    }
   ],
   "source": [
    "from lifelines import CoxPHFitter\n",
    "cph = CoxPHFitter()\n",
    "cph.fit(df3, duration_col='영업일',event_col='폐업여부')\n",
    "cph.print_summary(decimals=4)"
   ]
  },
  {
   "cell_type": "code",
   "execution_count": 262,
   "metadata": {},
   "outputs": [
    {
     "data": {
      "text/plain": [
       "<AxesSubplot:xlabel='log(HR) (95% CI)'>"
      ]
     },
     "execution_count": 262,
     "metadata": {},
     "output_type": "execute_result"
    },
    {
     "name": "stderr",
     "output_type": "stream",
     "text": [
      "C:\\Users\\jimin.DESKTOP-8V20QSQ\\anaconda3\\lib\\site-packages\\IPython\\core\\pylabtools.py:151: UserWarning: Glyph 8722 (\\N{MINUS SIGN}) missing from current font.\n",
      "  fig.canvas.print_figure(bytes_io, **kw)\n"
     ]
    },
    {
     "data": {
      "image/png": "[encoded data removed]",
      "text/plain": [
       "<Figure size 432x288 with 1 Axes>"
      ]
     },
     "metadata": {
      "needs_background": "light"
     },
     "output_type": "display_data"
    }
   ],
   "source": [
    "cph.plot()"
   ]
  },
  {
   "cell_type": "code",
   "execution_count": 263,
   "metadata": {},
   "outputs": [
    {
     "data": {
      "text/plain": [
       "0.6012354181087329"
      ]
     },
     "execution_count": 263,
     "metadata": {},
     "output_type": "execute_result"
    }
   ],
   "source": [
    "from lifelines.utils import concordance_index\n",
    "\n",
    "concordance_index(df_dummy.영업일, df_dummy.영업상태명, event_observed = None)"
   ]
  },
  {
   "cell_type": "code",
   "execution_count": 256,
   "metadata": {},
   "outputs": [],
   "source": [
    "df4 = df.loc[:, ['영업상태명', '동', \n",
    "                 '영업일','distance to intersection(m)',\n",
    "                 '가장 가까운 버스정류장까지 거리','가장 가까운 공원까지 거리',\n",
    "                 'distance to station(m)','레스토랑 규모 성장률','retail_성장률','house_성장률']]"
   ]
  },
  {
   "cell_type": "code",
   "execution_count": 257,
   "metadata": {},
   "outputs": [],
   "source": [
    "df_dummy2 = pd.get_dummies(df4, drop_first=True)"
   ]
  },
  {
   "cell_type": "code",
   "execution_count": 258,
   "metadata": {
    "scrolled": true
   },
   "outputs": [
    {
     "name": "stderr",
     "output_type": "stream",
     "text": [
      "C:\\Users\\jimin.DESKTOP-8V20QSQ\\anaconda3\\lib\\site-packages\\lifelines\\utils\\printer.py:62: FutureWarning: In future versions `DataFrame.to_latex` is expected to utilise the base implementation of `Styler.to_latex` for formatting and rendering. The arguments signature may therefore change. It is recommended instead to use `DataFrame.style.to_latex` which also contains additional functionality.\n",
      "  return summary_df[columns].to_latex(float_format=\"%.\" + str(self.decimals) + \"f\")\n"
     ]
    },
    {
     "data": {
      "text/html": [
       "<div>\n",
       "<style scoped>\n",
       "    .dataframe tbody tr th:only-of-type {\n",
       "        vertical-align: middle;\n",
       "    }\n",
       "\n",
       "    .dataframe tbody tr th {\n",
       "        vertical-align: top;\n",
       "    }\n",
       "\n",
       "    .dataframe thead th {\n",
       "        text-align: right;\n",
       "    }\n",
       "</style>\n",
       "<table border=\"1\" class=\"dataframe\">\n",
       "  <tbody>\n",
       "    <tr>\n",
       "      <th>model</th>\n",
       "      <td>lifelines.CoxPHFitter</td>\n",
       "    </tr>\n",
       "    <tr>\n",
       "      <th>duration col</th>\n",
       "      <td>'영업일'</td>\n",
       "    </tr>\n",
       "    <tr>\n",
       "      <th>event col</th>\n",
       "      <td>'영업상태명'</td>\n",
       "    </tr>\n",
       "    <tr>\n",
       "      <th>baseline estimation</th>\n",
       "      <td>breslow</td>\n",
       "    </tr>\n",
       "    <tr>\n",
       "      <th>number of observations</th>\n",
       "      <td>7387</td>\n",
       "    </tr>\n",
       "    <tr>\n",
       "      <th>number of events observed</th>\n",
       "      <td>3623</td>\n",
       "    </tr>\n",
       "    <tr>\n",
       "      <th>partial log-likelihood</th>\n",
       "      <td>-25480.62</td>\n",
       "    </tr>\n",
       "    <tr>\n",
       "      <th>time fit was run</th>\n",
       "      <td>2022-08-12 12:48:22 UTC</td>\n",
       "    </tr>\n",
       "  </tbody>\n",
       "</table>\n",
       "</div><table border=\"1\" class=\"dataframe\">\n",
       "  <thead>\n",
       "    <tr style=\"text-align: right;\">\n",
       "      <th style=\"min-width: 12px;\"></th>\n",
       "      <th style=\"min-width: 12px;\">coef</th>\n",
       "      <th style=\"min-width: 12px;\">exp(coef)</th>\n",
       "      <th style=\"min-width: 12px;\">se(coef)</th>\n",
       "      <th style=\"min-width: 12px;\">coef lower 95%</th>\n",
       "      <th style=\"min-width: 12px;\">coef upper 95%</th>\n",
       "      <th style=\"min-width: 12px;\">exp(coef) lower 95%</th>\n",
       "      <th style=\"min-width: 12px;\">exp(coef) upper 95%</th>\n",
       "      <th style=\"min-width: 12px;\">cmp to</th>\n",
       "      <th style=\"min-width: 12px;\">z</th>\n",
       "      <th style=\"min-width: 12px;\">p</th>\n",
       "      <th style=\"min-width: 12px;\">-log2(p)</th>\n",
       "    </tr>\n",
       "  </thead>\n",
       "  <tbody>\n",
       "    <tr>\n",
       "      <th>distance to intersection(m)</th>\n",
       "      <td>-0.00</td>\n",
       "      <td>1.00</td>\n",
       "      <td>0.00</td>\n",
       "      <td>-0.00</td>\n",
       "      <td>0.00</td>\n",
       "      <td>1.00</td>\n",
       "      <td>1.00</td>\n",
       "      <td>0.00</td>\n",
       "      <td>-0.31</td>\n",
       "      <td>0.75</td>\n",
       "      <td>0.41</td>\n",
       "    </tr>\n",
       "    <tr>\n",
       "      <th>가장 가까운 버스정류장까지 거리</th>\n",
       "      <td>-0.00</td>\n",
       "      <td>1.00</td>\n",
       "      <td>0.00</td>\n",
       "      <td>-0.00</td>\n",
       "      <td>0.00</td>\n",
       "      <td>1.00</td>\n",
       "      <td>1.00</td>\n",
       "      <td>0.00</td>\n",
       "      <td>-1.95</td>\n",
       "      <td>0.05</td>\n",
       "      <td>4.29</td>\n",
       "    </tr>\n",
       "    <tr>\n",
       "      <th>가장 가까운 공원까지 거리</th>\n",
       "      <td>0.00</td>\n",
       "      <td>1.00</td>\n",
       "      <td>0.00</td>\n",
       "      <td>0.00</td>\n",
       "      <td>0.00</td>\n",
       "      <td>1.00</td>\n",
       "      <td>1.00</td>\n",
       "      <td>0.00</td>\n",
       "      <td>2.70</td>\n",
       "      <td>0.01</td>\n",
       "      <td>7.18</td>\n",
       "    </tr>\n",
       "    <tr>\n",
       "      <th>distance to station(m)</th>\n",
       "      <td>-0.00</td>\n",
       "      <td>1.00</td>\n",
       "      <td>0.00</td>\n",
       "      <td>-0.00</td>\n",
       "      <td>-0.00</td>\n",
       "      <td>1.00</td>\n",
       "      <td>1.00</td>\n",
       "      <td>0.00</td>\n",
       "      <td>-4.98</td>\n",
       "      <td>&lt;0.005</td>\n",
       "      <td>20.59</td>\n",
       "    </tr>\n",
       "    <tr>\n",
       "      <th>레스토랑 규모 성장률</th>\n",
       "      <td>-0.19</td>\n",
       "      <td>0.82</td>\n",
       "      <td>0.01</td>\n",
       "      <td>-0.20</td>\n",
       "      <td>-0.18</td>\n",
       "      <td>0.82</td>\n",
       "      <td>0.83</td>\n",
       "      <td>0.00</td>\n",
       "      <td>-36.49</td>\n",
       "      <td>&lt;0.005</td>\n",
       "      <td>966.07</td>\n",
       "    </tr>\n",
       "    <tr>\n",
       "      <th>retail_성장률</th>\n",
       "      <td>-0.06</td>\n",
       "      <td>0.94</td>\n",
       "      <td>0.00</td>\n",
       "      <td>-0.07</td>\n",
       "      <td>-0.06</td>\n",
       "      <td>0.93</td>\n",
       "      <td>0.95</td>\n",
       "      <td>0.00</td>\n",
       "      <td>-16.10</td>\n",
       "      <td>&lt;0.005</td>\n",
       "      <td>191.41</td>\n",
       "    </tr>\n",
       "    <tr>\n",
       "      <th>house_성장률</th>\n",
       "      <td>-0.04</td>\n",
       "      <td>0.96</td>\n",
       "      <td>0.00</td>\n",
       "      <td>-0.05</td>\n",
       "      <td>-0.04</td>\n",
       "      <td>0.95</td>\n",
       "      <td>0.96</td>\n",
       "      <td>0.00</td>\n",
       "      <td>-14.61</td>\n",
       "      <td>&lt;0.005</td>\n",
       "      <td>158.21</td>\n",
       "    </tr>\n",
       "    <tr>\n",
       "      <th>동_성수동2가</th>\n",
       "      <td>-0.07</td>\n",
       "      <td>0.94</td>\n",
       "      <td>0.07</td>\n",
       "      <td>-0.20</td>\n",
       "      <td>0.06</td>\n",
       "      <td>0.82</td>\n",
       "      <td>1.07</td>\n",
       "      <td>0.00</td>\n",
       "      <td>-1.00</td>\n",
       "      <td>0.32</td>\n",
       "      <td>1.66</td>\n",
       "    </tr>\n",
       "    <tr>\n",
       "      <th>동_압구정동</th>\n",
       "      <td>-3.58</td>\n",
       "      <td>0.03</td>\n",
       "      <td>0.16</td>\n",
       "      <td>-3.89</td>\n",
       "      <td>-3.27</td>\n",
       "      <td>0.02</td>\n",
       "      <td>0.04</td>\n",
       "      <td>0.00</td>\n",
       "      <td>-22.36</td>\n",
       "      <td>&lt;0.005</td>\n",
       "      <td>365.42</td>\n",
       "    </tr>\n",
       "    <tr>\n",
       "      <th>동_여의도동</th>\n",
       "      <td>-1.05</td>\n",
       "      <td>0.35</td>\n",
       "      <td>0.07</td>\n",
       "      <td>-1.19</td>\n",
       "      <td>-0.91</td>\n",
       "      <td>0.30</td>\n",
       "      <td>0.40</td>\n",
       "      <td>0.00</td>\n",
       "      <td>-14.43</td>\n",
       "      <td>&lt;0.005</td>\n",
       "      <td>154.29</td>\n",
       "    </tr>\n",
       "    <tr>\n",
       "      <th>동_연남동</th>\n",
       "      <td>-2.16</td>\n",
       "      <td>0.12</td>\n",
       "      <td>0.10</td>\n",
       "      <td>-2.35</td>\n",
       "      <td>-1.97</td>\n",
       "      <td>0.10</td>\n",
       "      <td>0.14</td>\n",
       "      <td>0.00</td>\n",
       "      <td>-22.46</td>\n",
       "      <td>&lt;0.005</td>\n",
       "      <td>368.65</td>\n",
       "    </tr>\n",
       "    <tr>\n",
       "      <th>동_종로</th>\n",
       "      <td>-3.96</td>\n",
       "      <td>0.02</td>\n",
       "      <td>0.12</td>\n",
       "      <td>-4.19</td>\n",
       "      <td>-3.74</td>\n",
       "      <td>0.02</td>\n",
       "      <td>0.02</td>\n",
       "      <td>0.00</td>\n",
       "      <td>-34.44</td>\n",
       "      <td>&lt;0.005</td>\n",
       "      <td>861.10</td>\n",
       "    </tr>\n",
       "    <tr>\n",
       "      <th>동_한남동</th>\n",
       "      <td>-3.09</td>\n",
       "      <td>0.05</td>\n",
       "      <td>0.13</td>\n",
       "      <td>-3.34</td>\n",
       "      <td>-2.84</td>\n",
       "      <td>0.04</td>\n",
       "      <td>0.06</td>\n",
       "      <td>0.00</td>\n",
       "      <td>-24.02</td>\n",
       "      <td>&lt;0.005</td>\n",
       "      <td>421.20</td>\n",
       "    </tr>\n",
       "  </tbody>\n",
       "</table><br><div>\n",
       "<style scoped>\n",
       "    .dataframe tbody tr th:only-of-type {\n",
       "        vertical-align: middle;\n",
       "    }\n",
       "\n",
       "    .dataframe tbody tr th {\n",
       "        vertical-align: top;\n",
       "    }\n",
       "\n",
       "    .dataframe thead th {\n",
       "        text-align: right;\n",
       "    }\n",
       "</style>\n",
       "<table border=\"1\" class=\"dataframe\">\n",
       "  <tbody>\n",
       "    <tr>\n",
       "      <th>Concordance</th>\n",
       "      <td>0.52</td>\n",
       "    </tr>\n",
       "    <tr>\n",
       "      <th>Partial AIC</th>\n",
       "      <td>50987.25</td>\n",
       "    </tr>\n",
       "    <tr>\n",
       "      <th>log-likelihood ratio test</th>\n",
       "      <td>3368.63 on 13 df</td>\n",
       "    </tr>\n",
       "    <tr>\n",
       "      <th>-log2(p) of ll-ratio test</th>\n",
       "      <td>inf</td>\n",
       "    </tr>\n",
       "  </tbody>\n",
       "</table>\n",
       "</div>"
      ],
      "text/latex": [
       "\\begin{tabular}{lrrrrrrrrrrr}\n",
       "\\toprule\n",
       "{} &  coef &  exp(coef) &  se(coef) &  coef lower 95\\% &  coef upper 95\\% &  exp(coef) lower 95\\% &  exp(coef) upper 95\\% &  cmp to &      z &    p &  -log2(p) \\\\\n",
       "covariate                   &       &            &           &                 &                 &                      &                      &         &        &      &           \\\\\n",
       "\\midrule\n",
       "distance to intersection(m) & -0.00 &       1.00 &      0.00 &           -0.00 &            0.00 &                 1.00 &                 1.00 &    0.00 &  -0.31 & 0.75 &      0.41 \\\\\n",
       "가장 가까운 버스정류장까지 거리           & -0.00 &       1.00 &      0.00 &           -0.00 &            0.00 &                 1.00 &                 1.00 &    0.00 &  -1.95 & 0.05 &      4.29 \\\\\n",
       "가장 가까운 공원까지 거리              &  0.00 &       1.00 &      0.00 &            0.00 &            0.00 &                 1.00 &                 1.00 &    0.00 &   2.70 & 0.01 &      7.18 \\\\\n",
       "distance to station(m)      & -0.00 &       1.00 &      0.00 &           -0.00 &           -0.00 &                 1.00 &                 1.00 &    0.00 &  -4.98 & 0.00 &     20.59 \\\\\n",
       "레스토랑 규모 성장률                 & -0.19 &       0.82 &      0.01 &           -0.20 &           -0.18 &                 0.82 &                 0.83 &    0.00 & -36.49 & 0.00 &    966.07 \\\\\n",
       "retail\\_성장률                  & -0.06 &       0.94 &      0.00 &           -0.07 &           -0.06 &                 0.93 &                 0.95 &    0.00 & -16.10 & 0.00 &    191.41 \\\\\n",
       "house\\_성장률                   & -0.04 &       0.96 &      0.00 &           -0.05 &           -0.04 &                 0.95 &                 0.96 &    0.00 & -14.61 & 0.00 &    158.21 \\\\\n",
       "동\\_성수동2가                     & -0.07 &       0.94 &      0.07 &           -0.20 &            0.06 &                 0.82 &                 1.07 &    0.00 &  -1.00 & 0.32 &      1.66 \\\\\n",
       "동\\_압구정동                      & -3.58 &       0.03 &      0.16 &           -3.89 &           -3.27 &                 0.02 &                 0.04 &    0.00 & -22.36 & 0.00 &    365.42 \\\\\n",
       "동\\_여의도동                      & -1.05 &       0.35 &      0.07 &           -1.19 &           -0.91 &                 0.30 &                 0.40 &    0.00 & -14.43 & 0.00 &    154.29 \\\\\n",
       "동\\_연남동                       & -2.16 &       0.12 &      0.10 &           -2.35 &           -1.97 &                 0.10 &                 0.14 &    0.00 & -22.46 & 0.00 &    368.65 \\\\\n",
       "동\\_종로                        & -3.96 &       0.02 &      0.12 &           -4.19 &           -3.74 &                 0.02 &                 0.02 &    0.00 & -34.44 & 0.00 &    861.10 \\\\\n",
       "동\\_한남동                       & -3.09 &       0.05 &      0.13 &           -3.34 &           -2.84 &                 0.04 &                 0.06 &    0.00 & -24.02 & 0.00 &    421.20 \\\\\n",
       "\\bottomrule\n",
       "\\end{tabular}\n"
      ],
      "text/plain": [
       "<lifelines.CoxPHFitter: fitted with 7387 total observations, 3764 right-censored observations>\n",
       "             duration col = '영업일'\n",
       "                event col = '영업상태명'\n",
       "      baseline estimation = breslow\n",
       "   number of observations = 7387\n",
       "number of events observed = 3623\n",
       "   partial log-likelihood = -25480.62\n",
       "         time fit was run = 2022-08-12 12:48:22 UTC\n",
       "\n",
       "---\n",
       "                              coef  exp(coef)   se(coef)   coef lower 95%   coef upper 95%  exp(coef) lower 95%  exp(coef) upper 95%\n",
       "covariate                                                                                                                           \n",
       "distance to intersection(m)  -0.00       1.00       0.00            -0.00             0.00                 1.00                 1.00\n",
       "가장 가까운 버스정류장까지 거리            -0.00       1.00       0.00            -0.00             0.00                 1.00                 1.00\n",
       "가장 가까운 공원까지 거리                0.00       1.00       0.00             0.00             0.00                 1.00                 1.00\n",
       "distance to station(m)       -0.00       1.00       0.00            -0.00            -0.00                 1.00                 1.00\n",
       "레스토랑 규모 성장률                  -0.19       0.82       0.01            -0.20            -0.18                 0.82                 0.83\n",
       "retail_성장률                   -0.06       0.94       0.00            -0.07            -0.06                 0.93                 0.95\n",
       "house_성장률                    -0.04       0.96       0.00            -0.05            -0.04                 0.95                 0.96\n",
       "동_성수동2가                      -0.07       0.94       0.07            -0.20             0.06                 0.82                 1.07\n",
       "동_압구정동                       -3.58       0.03       0.16            -3.89            -3.27                 0.02                 0.04\n",
       "동_여의도동                       -1.05       0.35       0.07            -1.19            -0.91                 0.30                 0.40\n",
       "동_연남동                        -2.16       0.12       0.10            -2.35            -1.97                 0.10                 0.14\n",
       "동_종로                         -3.96       0.02       0.12            -4.19            -3.74                 0.02                 0.02\n",
       "동_한남동                        -3.09       0.05       0.13            -3.34            -2.84                 0.04                 0.06\n",
       "\n",
       "                              cmp to      z      p   -log2(p)\n",
       "covariate                                                    \n",
       "distance to intersection(m)     0.00  -0.31   0.75       0.41\n",
       "가장 가까운 버스정류장까지 거리               0.00  -1.95   0.05       4.29\n",
       "가장 가까운 공원까지 거리                  0.00   2.70   0.01       7.18\n",
       "distance to station(m)          0.00  -4.98 <0.005      20.59\n",
       "레스토랑 규모 성장률                     0.00 -36.49 <0.005     966.07\n",
       "retail_성장률                      0.00 -16.10 <0.005     191.41\n",
       "house_성장률                       0.00 -14.61 <0.005     158.21\n",
       "동_성수동2가                         0.00  -1.00   0.32       1.66\n",
       "동_압구정동                          0.00 -22.36 <0.005     365.42\n",
       "동_여의도동                          0.00 -14.43 <0.005     154.29\n",
       "동_연남동                           0.00 -22.46 <0.005     368.65\n",
       "동_종로                            0.00 -34.44 <0.005     861.10\n",
       "동_한남동                           0.00 -24.02 <0.005     421.20\n",
       "---\n",
       "Concordance = 0.52\n",
       "Partial AIC = 50987.25\n",
       "log-likelihood ratio test = 3368.63 on 13 df\n",
       "-log2(p) of ll-ratio test = inf"
      ]
     },
     "metadata": {},
     "output_type": "display_data"
    }
   ],
   "source": [
    "from lifelines import CoxPHFitter\n",
    "cph2 = CoxPHFitter()\n",
    "cph2.fit(df_dummy2, duration_col='영업일',event_col='영업상태명')\n",
    "cph2.print_summary()"
   ]
  },
  {
   "cell_type": "code",
   "execution_count": 259,
   "metadata": {},
   "outputs": [
    {
     "data": {
      "text/plain": [
       "<AxesSubplot:xlabel='log(HR) (95% CI)'>"
      ]
     },
     "execution_count": 259,
     "metadata": {},
     "output_type": "execute_result"
    },
    {
     "name": "stderr",
     "output_type": "stream",
     "text": [
      "C:\\Users\\jimin.DESKTOP-8V20QSQ\\anaconda3\\lib\\site-packages\\IPython\\core\\pylabtools.py:151: UserWarning: Glyph 8722 (\\N{MINUS SIGN}) missing from current font.\n",
      "  fig.canvas.print_figure(bytes_io, **kw)\n"
     ]
    },
    {
     "data": {
      "image/png": "[encoded data removed]",
      "text/plain": [
       "<Figure size 432x288 with 1 Axes>"
      ]
     },
     "metadata": {
      "needs_background": "light"
     },
     "output_type": "display_data"
    }
   ],
   "source": [
    "cph2.plot()"
   ]
  },
  {
   "cell_type": "code",
   "execution_count": 260,
   "metadata": {},
   "outputs": [
    {
     "data": {
      "text/plain": [
       "0.6012354181087329"
      ]
     },
     "execution_count": 260,
     "metadata": {},
     "output_type": "execute_result"
    }
   ],
   "source": [
    "concordance_index(df_dummy2.영업일, df_dummy2.영업상태명, event_observed = None)"
   ]
  },
  {
   "cell_type": "markdown",
   "metadata": {},
   "source": [
    "## 업종별 생존분석"
   ]
  },
  {
   "cell_type": "code",
   "execution_count": 425,
   "metadata": {},
   "outputs": [],
   "source": [
    "kmf=KaplanMeierFitter()"
   ]
  },
  {
   "cell_type": "code",
   "execution_count": 426,
   "metadata": {},
   "outputs": [
    {
     "name": "stderr",
     "output_type": "stream",
     "text": [
      "C:\\Users\\jimin.DESKTOP-8V20QSQ\\AppData\\Local\\Temp\\ipykernel_19336\\1004613942.py:1: SettingWithCopyWarning: \n",
      "A value is trying to be set on a copy of a slice from a DataFrame.\n",
      "Try using .loc[row_indexer,col_indexer] = value instead\n",
      "\n",
      "See the caveats in the documentation: https://pandas.pydata.org/pandas-docs/stable/user_guide/indexing.html#returning-a-view-versus-a-copy\n",
      "  df['영업상태명']=df['영업상태명'].apply(lambda x: 0 if x == '폐업' else 1 )\n"
     ]
    }
   ],
   "source": [
    "df['영업상태명']=df['영업상태명'].apply(lambda x: 0 if x == '폐업' else 1 )"
   ]
  },
  {
   "cell_type": "code",
   "execution_count": 438,
   "metadata": {},
   "outputs": [],
   "source": [
    "region = ['한남동', '압구정동', '성수동1가', '성수동2가', '여의동', '연남동', '종로1,2,3,4가']\n",
    "food = ['한식', '경양식', '중국식', '까페', '일식', '분식', '패스트푸드', '호프/통닭']"
   ]
  },
  {
   "cell_type": "code",
   "execution_count": 428,
   "metadata": {},
   "outputs": [],
   "source": [
    "df = df[['동', '업태구분명', '영업일',\n",
    "         'distance to intersection(m)','가장 가까운 버스정류장까지 거리','가장 가까운 공원까지 거리','distance to station(m)',\n",
    "         '레스토랑 규모 성장률','retail_성장률','house_성장률','영업상태명']]"
   ]
  },
  {
   "cell_type": "code",
   "execution_count": 429,
   "metadata": {},
   "outputs": [
    {
     "data": {
      "image/png": "[encoded data removed]",
      "text/plain": [
       "<Figure size 432x288 with 1 Axes>"
      ]
     },
     "metadata": {
      "needs_background": "light"
     },
     "output_type": "display_data"
    }
   ],
   "source": [
    "T= df[df.동 == region[0]]['영업일']\n",
    "E=df[df.동 == region[0]]['영업상태명']\n",
    "groups=df[df.동 == region[0]]['업태구분명']\n",
    "\n",
    "for i in range(len(food)) :\n",
    "    try :\n",
    "        kmf.fit(T[(groups == food[i])],E[groups == food[i]], label=food[i])\n",
    "        plot = kmf.plot(ci_show=False)\n",
    "        plot.set_xlabel('Survival period(Days)')\n",
    "        plot.set_ylabel('Survival Rate')\n",
    "    except : pass\n",
    "plt.savefig('한남동.png')"
   ]
  },
  {
   "cell_type": "code",
   "execution_count": 430,
   "metadata": {},
   "outputs": [
    {
     "data": {
      "image/png": "[encoded data removed]",
      "text/plain": [
       "<Figure size 432x288 with 1 Axes>"
      ]
     },
     "metadata": {
      "needs_background": "light"
     },
     "output_type": "display_data"
    }
   ],
   "source": [
    "T= df[df.동 == region[1]]['영업일']\n",
    "E=df[df.동 == region[1]]['영업상태명']\n",
    "groups=df[df.동 == region[1]]['업태구분명']\n",
    "\n",
    "for i in range(len(food)) :\n",
    "    try :\n",
    "        kmf.fit(T[(groups == food[i])],E[groups == food[i]], label=food[i])\n",
    "        plot = kmf.plot(ci_show=False)\n",
    "        plot.set_xlabel('Survival period(Days)')\n",
    "        plot.set_ylabel('Survival Rate')\n",
    "    except : pass\n",
    "plt.savefig('압구정동.png')"
   ]
  },
  {
   "cell_type": "code",
   "execution_count": 431,
   "metadata": {},
   "outputs": [
    {
     "data": {
      "image/png": "[encoded data removed]",
      "text/plain": [
       "<Figure size 432x288 with 1 Axes>"
      ]
     },
     "metadata": {
      "needs_background": "light"
     },
     "output_type": "display_data"
    }
   ],
   "source": [
    "T= df[df.동 == region[2]]['영업일']\n",
    "E=df[df.동 == region[2]]['영업상태명']\n",
    "groups=df[df.동 == region[2]]['업태구분명']\n",
    "\n",
    "for i in range(len(food)) :\n",
    "    try :\n",
    "        kmf.fit(T[(groups == food[i])],E[groups == food[i]], label=food[i])\n",
    "        plot = kmf.plot(ci_show=False)\n",
    "        plot.set_xlabel('Survival period(Days)')\n",
    "        plot.set_ylabel('Survival Rate')\n",
    "    except : pass\n",
    "plt.savefig('성수동1가.png')"
   ]
  },
  {
   "cell_type": "code",
   "execution_count": 432,
   "metadata": {},
   "outputs": [
    {
     "data": {
      "image/png": "[encoded data removed]",
      "text/plain": [
       "<Figure size 432x288 with 1 Axes>"
      ]
     },
     "metadata": {
      "needs_background": "light"
     },
     "output_type": "display_data"
    }
   ],
   "source": [
    "T= df[df.동 == region[3]]['영업일']\n",
    "E=df[df.동 == region[3]]['영업상태명']\n",
    "groups=df[df.동 == region[3]]['업태구분명']\n",
    "\n",
    "for i in range(len(food)) :\n",
    "    try :\n",
    "        kmf.fit(T[(groups == food[i])],E[groups == food[i]], label=food[i])\n",
    "        plot = kmf.plot(ci_show=False)\n",
    "        plot.set_xlabel('Survival period(Days)')\n",
    "        plot.set_ylabel('Survival Rate')\n",
    "    except : pass\n",
    "plt.savefig('성수동2가.png')"
   ]
  },
  {
   "cell_type": "code",
   "execution_count": 435,
   "metadata": {},
   "outputs": [
    {
     "data": {
      "image/png": "[encoded data removed]",
      "text/plain": [
       "<Figure size 432x288 with 1 Axes>"
      ]
     },
     "metadata": {
      "needs_background": "light"
     },
     "output_type": "display_data"
    }
   ],
   "source": [
    "T= df[df.동 == region[4]]['영업일']\n",
    "E=df[df.동 == region[4]]['영업상태명']\n",
    "groups=df[df.동 == region[4]]['업태구분명']\n",
    "\n",
    "for i in range(len(food)) :\n",
    "    try :\n",
    "        kmf.fit(T[(groups == food[i])],E[groups == food[i]], label=food[i])\n",
    "        plot = kmf.plot(ci_show=False)\n",
    "        plot.set_xlabel('Survival period(Days)')\n",
    "        plot.set_ylabel('Survival Rate')\n",
    "    except : pass\n",
    "plt.savefig('여의도동.png')"
   ]
  },
  {
   "cell_type": "code",
   "execution_count": 436,
   "metadata": {},
   "outputs": [
    {
     "data": {
      "image/png": "[encoded data removed]",
      "text/plain": [
       "<Figure size 432x288 with 1 Axes>"
      ]
     },
     "metadata": {
      "needs_background": "light"
     },
     "output_type": "display_data"
    }
   ],
   "source": [
    "T= df[df.동 == region[5]]['영업일']\n",
    "E=df[df.동 == region[5]]['영업상태명']\n",
    "groups=df[df.동 == region[5]]['업태구분명']\n",
    "\n",
    "for i in range(len(food)) :\n",
    "    try :\n",
    "        kmf.fit(T[(groups == food[i])],E[groups == food[i]], label=food[i])\n",
    "        plot = kmf.plot(ci_show=False)\n",
    "        plot.set_xlabel('Survival period(Days)')\n",
    "        plot.set_ylabel('Survival Rate')\n",
    "    except : pass\n",
    "plt.savefig('연남동.png')"
   ]
  },
  {
   "cell_type": "code",
   "execution_count": 440,
   "metadata": {},
   "outputs": [
    {
     "data": {
      "image/png": "[encoded data removed]",
      "text/plain": [
       "<Figure size 432x288 with 1 Axes>"
      ]
     },
     "metadata": {
      "needs_background": "light"
     },
     "output_type": "display_data"
    }
   ],
   "source": [
    "T= df[df.동 == region[6]]['영업일']\n",
    "E=df[df.동 == region[6]]['영업상태명']\n",
    "groups=df[df.동 == region[6]]['업태구분명']\n",
    "\n",
    "for i in range(len(food)) :\n",
    "    try :\n",
    "        kmf.fit(T[(groups == food[i])],E[groups == food[i]], label=food[i])\n",
    "        plot = kmf.plot(ci_show=False)\n",
    "        plot.set_xlabel('Survival period(Days)')\n",
    "        plot.set_ylabel('Survival Rate')\n",
    "    except : pass\n",
    "plt.savefig('종로동.png')"
   ]
  }
 ],
 "metadata": {
  "kernelspec": {
   "display_name": "Python 3 (ipykernel)",
   "language": "python",
   "name": "python3"
  },
  "language_info": {
   "codemirror_mode": {
    "name": "ipython",
    "version": 3
   },
   "file_extension": ".py",
   "mimetype": "text/x-python",
   "name": "python",
   "nbconvert_exporter": "python",
   "pygments_lexer": "ipython3",
   "version": "3.9.12"
  }
 },
 "nbformat": 4,
 "nbformat_minor": 4
}
